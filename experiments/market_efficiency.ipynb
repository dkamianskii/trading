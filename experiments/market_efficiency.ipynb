{
 "cells": [
  {
   "cell_type": "markdown",
   "id": "d4960770-1625-4fc8-92fd-ef80237c8cb9",
   "metadata": {},
   "source": [
    "How much price changes acts like a white noise:\n",
    "- check diff mean on different a periods\n",
    "- check diff relative std on different a periods\n",
    "- check diff ljung box q-test on different a periods\n",
    "- check price direction statistics on different direction periods"
   ]
  },
  {
   "cell_type": "code",
   "execution_count": 1,
   "id": "2c20fae5-5b5f-48d6-9e8c-fbf8e1a23f52",
   "metadata": {},
   "outputs": [],
   "source": [
    "import pandas as pd\n",
    "import numpy as np\n",
    "import os\n",
    "from os import path"
   ]
  },
  {
   "cell_type": "code",
   "execution_count": 2,
   "id": "7ff4ca1f-12b5-469d-86d6-da13a8903b3d",
   "metadata": {},
   "outputs": [],
   "source": [
    "symbols = pd.read_csv(\"D:\\Trading\\sp500_symbols_list.csv\")"
   ]
  },
  {
   "cell_type": "code",
   "execution_count": 3,
   "id": "36c81943-bfdd-4772-8d3e-06b1cdb920e5",
   "metadata": {},
   "outputs": [],
   "source": [
    "tickers_path = \"D:\\\\Trading\\\\raw_data\\\\tickers\""
   ]
  },
  {
   "cell_type": "code",
   "execution_count": 4,
   "id": "1985f3e1-37a3-411c-9ca9-a7cf9e03e438",
   "metadata": {},
   "outputs": [],
   "source": [
    "tickers_dfs = [pd.read_csv(path.join(tickers_path, f\"{ticker}.csv\"), parse_dates=True, index_col=\"Date\") for ticker in symbols['Symbol']]"
   ]
  },
  {
   "cell_type": "markdown",
   "id": "f1cfa97e-cc15-43dc-9c15-ca87d4788b1d",
   "metadata": {},
   "source": [
    "### Global change"
   ]
  },
  {
   "cell_type": "code",
   "execution_count": 100,
   "id": "d5136784-2711-4a87-a039-912e112e0d6c",
   "metadata": {},
   "outputs": [
    {
     "name": "stdout",
     "output_type": "stream",
     "text": [
      "Mean: 28.67160345005366\n",
      "Std: 82.0881158891766\n",
      "Median: 10.91735120079738\n",
      "75% percintile: 26.850378832910778\n",
      "25% percintile: 3.27456410743514\n",
      "Max: 883.2785404738852\n",
      "Min: -0.9144285633342085\n"
     ]
    }
   ],
   "source": [
    "global_changes = np.array([(df[\"Close\"].iloc[-1] - df[\"Close\"].iloc[0]) / df[\"Close\"].iloc[0] for df in tickers_dfs])\n",
    "print(f\"Mean: {global_changes.mean()}\")\n",
    "print(f\"Std: {global_changes.std()}\")\n",
    "print(f\"Median: {np.quantile(global_changes, 0.5)}\")\n",
    "print(f\"75% percintile: {np.quantile(global_changes, 0.75)}\")\n",
    "print(f\"25% percintile: {np.quantile(global_changes, 0.25)}\")\n",
    "print(f\"Max: {np.max(global_changes)}\")\n",
    "print(f\"Min: {np.min(global_changes)}\")"
   ]
  },
  {
   "cell_type": "markdown",
   "id": "572539b7-f4c0-48af-9ec2-949c0d188a9c",
   "metadata": {},
   "source": [
    "### One day change"
   ]
  },
  {
   "cell_type": "markdown",
   "id": "f3647494-232c-41c8-a37f-0c02b7294633",
   "metadata": {
    "tags": []
   },
   "source": [
    "#### Full changes"
   ]
  },
  {
   "cell_type": "markdown",
   "id": "fcf9b858-e653-4dff-a146-8fe8d4473353",
   "metadata": {},
   "source": [
    "Sign changes"
   ]
  },
  {
   "cell_type": "code",
   "execution_count": 107,
   "id": "499b0f88-3b38-4390-af9c-96edfacf718f",
   "metadata": {},
   "outputs": [
    {
     "name": "stdout",
     "output_type": "stream",
     "text": [
      "Mean: 0.03695114472164353\n",
      "Std: 0.04761813834549959\n",
      "Median: 0.023785825600271766\n",
      "75% percintile: 0.0449788509592995\n",
      "25% percintile: 0.010450578264236893\n",
      "Max: 0.35016882897724394\n",
      "Min: -0.1275659096325348\n"
     ]
    }
   ],
   "source": [
    "mean_diffs = np.array([df[\"Close\"].diff().mean() for df in tickers_dfs])\n",
    "print(f\"Mean: {mean_diffs.mean()}\")\n",
    "print(f\"Std: {mean_diffs.std()}\")\n",
    "print(f\"Median: {np.quantile(mean_diffs, 0.5)}\")\n",
    "print(f\"75% percintile: {np.quantile(mean_diffs, 0.75)}\")\n",
    "print(f\"25% percintile: {np.quantile(mean_diffs, 0.25)}\")\n",
    "print(f\"Max: {np.max(mean_diffs)}\")\n",
    "print(f\"Min: {np.min(mean_diffs)}\")"
   ]
  },
  {
   "cell_type": "markdown",
   "id": "1276aede-3085-4b84-b883-0d6bb5bf9754",
   "metadata": {},
   "source": [
    "Abs changes"
   ]
  },
  {
   "cell_type": "code",
   "execution_count": 104,
   "id": "9b7d15fc-0773-42bd-a53f-3236415575f8",
   "metadata": {},
   "outputs": [
    {
     "name": "stdout",
     "output_type": "stream",
     "text": [
      "Mean: 0.4196364066085299\n",
      "Std: 0.26986913748847524\n",
      "Median: 0.3706231117248491\n",
      "75% percintile: 0.5163554549217224\n",
      "25% percintile: 0.23797202110290483\n",
      "Max: 1.779998779296875\n",
      "Min: 0.029375016689300537\n"
     ]
    }
   ],
   "source": [
    "median_abs_diffs = np.array([np.abs(df[\"Close\"].diff()).median() for df in tickers_dfs])\n",
    "print(f\"Mean: {median_abs_diffs.mean()}\")\n",
    "print(f\"Std: {median_abs_diffs.std()}\")\n",
    "print(f\"Median: {np.quantile(median_abs_diffs, 0.5)}\")\n",
    "print(f\"75% percintile: {np.quantile(median_abs_diffs, 0.75)}\")\n",
    "print(f\"25% percintile: {np.quantile(median_abs_diffs, 0.25)}\")\n",
    "print(f\"Max: {np.max(median_abs_diffs)}\")\n",
    "print(f\"Min: {np.min(median_abs_diffs)}\")"
   ]
  },
  {
   "cell_type": "markdown",
   "id": "1ca63e73-c44e-4c4e-ba4d-d6c65d9d18a8",
   "metadata": {},
   "source": [
    "#### Relative changes"
   ]
  },
  {
   "cell_type": "markdown",
   "id": "090d3566-8cb4-4fd9-9dbf-48fb4eddfa5a",
   "metadata": {},
   "source": [
    "Sign changes"
   ]
  },
  {
   "cell_type": "code",
   "execution_count": 108,
   "id": "94b2af8a-c15c-4cc0-9306-27ce6b9f6ee1",
   "metadata": {},
   "outputs": [
    {
     "name": "stdout",
     "output_type": "stream",
     "text": [
      "Mean: 0.0007750250509954834\n",
      "Std: 0.0003041425339456493\n",
      "Median: 0.0007290321246123759\n",
      "75% percintile: 0.0009255613493289743\n",
      "25% percintile: 0.0005672262616528433\n",
      "Max: 0.002251801750850783\n",
      "Min: 0.0001881340692730979\n"
     ]
    }
   ],
   "source": [
    "mean_pct_changes = np.array([df[\"Close\"].pct_change().mean() for df in tickers_dfs])\n",
    "print(f\"Mean: {mean_pct_changes.mean()}\")\n",
    "print(f\"Std: {mean_pct_changes.std()}\")\n",
    "print(f\"Median: {np.quantile(mean_pct_changes, 0.5)}\")\n",
    "print(f\"75% percintile: {np.quantile(mean_pct_changes, 0.75)}\")\n",
    "print(f\"25% percintile: {np.quantile(mean_pct_changes, 0.25)}\")\n",
    "print(f\"Max: {np.max(mean_pct_changes)}\")\n",
    "print(f\"Min: {np.min(mean_pct_changes)}\")"
   ]
  },
  {
   "cell_type": "markdown",
   "id": "6782fff6-07f7-48a7-ace4-2e82399d547f",
   "metadata": {},
   "source": [
    "Abs changes"
   ]
  },
  {
   "cell_type": "code",
   "execution_count": 106,
   "id": "4cf2e07a-39eb-4342-9edc-8adf39e09ad2",
   "metadata": {},
   "outputs": [
    {
     "name": "stdout",
     "output_type": "stream",
     "text": [
      "Mean: 0.010786602551968201\n",
      "Std: 0.0027131689611439597\n",
      "Median: 0.01031745991292371\n",
      "75% percintile: 0.012116910016144067\n",
      "25% percintile: 0.008782427374735197\n",
      "Max: 0.025145089462765946\n",
      "Min: 0.006472151616626731\n"
     ]
    }
   ],
   "source": [
    "median_abs_pct_changes = np.array([np.abs(df[\"Close\"].pct_change()).median() for df in tickers_dfs])\n",
    "print(f\"Mean: {median_abs_pct_changes.mean()}\")\n",
    "print(f\"Std: {median_abs_pct_changes.std()}\")\n",
    "print(f\"Median: {np.quantile(median_abs_pct_changes, 0.5)}\")\n",
    "print(f\"75% percintile: {np.quantile(median_abs_pct_changes, 0.75)}\")\n",
    "print(f\"25% percintile: {np.quantile(median_abs_pct_changes, 0.25)}\")\n",
    "print(f\"Max: {np.max(median_abs_pct_changes)}\")\n",
    "print(f\"Min: {np.min(median_abs_pct_changes)}\")"
   ]
  },
  {
   "cell_type": "markdown",
   "id": "79f790f8-cae8-4321-bad9-d9db1ef0cb19",
   "metadata": {},
   "source": [
    "### Анализ трендов"
   ]
  },
  {
   "cell_type": "markdown",
   "id": "0fee0196-92ac-49ca-9537-532e1af06ab9",
   "metadata": {},
   "source": [
    "Минимальная длина тренда - 8 дней. Если выполняется r2 >= 0.8 - +1 день и снова строим регрессию, так пока условие не перестанет выполняться, либо регрессия не поменяет знак параметра. Сохраняем длину тренда и его изменение. Начинаем новую регрессию по следующим 8 дням, если регрессии нет, делаем сдвиг на 1 день."
   ]
  },
  {
   "cell_type": "code",
   "execution_count": 95,
   "id": "a252eef8-73ba-480f-bc4b-2456a26c1b54",
   "metadata": {},
   "outputs": [],
   "source": [
    "from detect_trends import detect_trends"
   ]
  },
  {
   "cell_type": "code",
   "execution_count": 96,
   "id": "2f06be2b-91b1-4e3b-b254-ecd62d800565",
   "metadata": {},
   "outputs": [],
   "source": [
    "from tqdm import tqdm"
   ]
  },
  {
   "cell_type": "code",
   "execution_count": 98,
   "id": "48408e29-6e3f-4a28-b0b8-2f499d5adc47",
   "metadata": {},
   "outputs": [],
   "source": [
    "import matplotlib.pyplot as plt"
   ]
  },
  {
   "cell_type": "code",
   "execution_count": 112,
   "id": "151d0342-0475-4781-888a-b11c3a765f37",
   "metadata": {
    "collapsed": true,
    "jupyter": {
     "outputs_hidden": true
    },
    "tags": []
   },
   "outputs": [
    {
     "name": "stderr",
     "output_type": "stream",
     "text": [
      " 68%|██████████████████████████████████████████████████████▍                         | 151/222 [07:35<03:32,  2.99s/it]C:\\Users\\Dell\\anaconda3\\lib\\site-packages\\statsmodels\\regression\\linear_model.py:1736: RuntimeWarning: divide by zero encountered in scalar divide\n",
      "  return 1 - self.ssr/self.centered_tss\n",
      " 91%|█████████████████████████████████████████████████████████████████████████▏      | 203/222 [10:10<01:00,  3.19s/it]C:\\Users\\Dell\\anaconda3\\lib\\site-packages\\statsmodels\\regression\\linear_model.py:1736: RuntimeWarning: divide by zero encountered in scalar divide\n",
      "  return 1 - self.ssr/self.centered_tss\n",
      "C:\\Users\\Dell\\anaconda3\\lib\\site-packages\\statsmodels\\regression\\linear_model.py:1736: RuntimeWarning: divide by zero encountered in scalar divide\n",
      "  return 1 - self.ssr/self.centered_tss\n",
      "C:\\Users\\Dell\\anaconda3\\lib\\site-packages\\statsmodels\\regression\\linear_model.py:1736: RuntimeWarning: divide by zero encountered in scalar divide\n",
      "  return 1 - self.ssr/self.centered_tss\n",
      "C:\\Users\\Dell\\anaconda3\\lib\\site-packages\\statsmodels\\regression\\linear_model.py:1736: RuntimeWarning: divide by zero encountered in scalar divide\n",
      "  return 1 - self.ssr/self.centered_tss\n",
      "C:\\Users\\Dell\\anaconda3\\lib\\site-packages\\statsmodels\\regression\\linear_model.py:1736: RuntimeWarning: divide by zero encountered in scalar divide\n",
      "  return 1 - self.ssr/self.centered_tss\n",
      "C:\\Users\\Dell\\anaconda3\\lib\\site-packages\\statsmodels\\regression\\linear_model.py:1736: RuntimeWarning: divide by zero encountered in scalar divide\n",
      "  return 1 - self.ssr/self.centered_tss\n",
      "C:\\Users\\Dell\\anaconda3\\lib\\site-packages\\statsmodels\\regression\\linear_model.py:1736: RuntimeWarning: divide by zero encountered in scalar divide\n",
      "  return 1 - self.ssr/self.centered_tss\n",
      "C:\\Users\\Dell\\anaconda3\\lib\\site-packages\\statsmodels\\regression\\linear_model.py:1736: RuntimeWarning: divide by zero encountered in scalar divide\n",
      "  return 1 - self.ssr/self.centered_tss\n",
      "C:\\Users\\Dell\\anaconda3\\lib\\site-packages\\statsmodels\\regression\\linear_model.py:1736: RuntimeWarning: divide by zero encountered in scalar divide\n",
      "  return 1 - self.ssr/self.centered_tss\n",
      "C:\\Users\\Dell\\anaconda3\\lib\\site-packages\\statsmodels\\regression\\linear_model.py:1736: RuntimeWarning: divide by zero encountered in scalar divide\n",
      "  return 1 - self.ssr/self.centered_tss\n",
      "C:\\Users\\Dell\\anaconda3\\lib\\site-packages\\statsmodels\\regression\\linear_model.py:1736: RuntimeWarning: divide by zero encountered in scalar divide\n",
      "  return 1 - self.ssr/self.centered_tss\n",
      "C:\\Users\\Dell\\anaconda3\\lib\\site-packages\\statsmodels\\regression\\linear_model.py:1736: RuntimeWarning: divide by zero encountered in scalar divide\n",
      "  return 1 - self.ssr/self.centered_tss\n",
      "100%|████████████████████████████████████████████████████████████████████████████████| 222/222 [11:07<00:00,  3.01s/it]\n"
     ]
    }
   ],
   "source": [
    "trends_len_list, trends_val_list, trends_gain_list = [], [], []\n",
    "for df in tqdm(tickers_dfs):\n",
    "    trends_len, trends_val, trends_late_gain, trends_starts = detect_trends(df[\"Close\"],\n",
    "                                                                            min_trend_len=8,\n",
    "                                                                            max_trend_len=100,\n",
    "                                                                            min_r2=0.8,\n",
    "                                                                            min_trend_dir=0.005)\n",
    "    trends_len_list.append(trends_len)\n",
    "    trends_val_list.append(trends_val)\n",
    "    trends_gain_list.append(trends_late_gain)"
   ]
  },
  {
   "cell_type": "markdown",
   "id": "e8d6ed15-a83a-44ca-9a64-53b673bb1a2e",
   "metadata": {},
   "source": [
    "Median percintiles for trend length"
   ]
  },
  {
   "cell_type": "code",
   "execution_count": 113,
   "id": "70cd401e-a1eb-46f7-b031-a7de913856eb",
   "metadata": {},
   "outputs": [
    {
     "data": {
      "image/png": "[encoded data removed]",
      "text/plain": [
       "<Figure size 432x288 with 1 Axes>"
      ]
     },
     "metadata": {
      "needs_background": "light"
     },
     "output_type": "display_data"
    }
   ],
   "source": [
    "median_lens = [np.quantile(l, 0.5) for l in trends_len_list]\n",
    "plt.hist(x=median_lens, bins=len(np.unique(median_lens)))\n",
    "plt.title(\"Распределение медианных длин\")\n",
    "plt.show()"
   ]
  },
  {
   "cell_type": "code",
   "execution_count": 114,
   "id": "e69f466c-9686-433d-9200-01f34256e14e",
   "metadata": {},
   "outputs": [
    {
     "data": {
      "image/png": "[encoded data removed]",
      "text/plain": [
       "<Figure size 432x288 with 1 Axes>"
      ]
     },
     "metadata": {
      "needs_background": "light"
     },
     "output_type": "display_data"
    }
   ],
   "source": [
    "mean_lens = [np.mean(l) for l in trends_len_list]\n",
    "plt.hist(x=mean_lens, bins=20)\n",
    "plt.title(\"Распределение средних длин\")\n",
    "plt.show()"
   ]
  },
  {
   "cell_type": "markdown",
   "id": "78d005b0-526a-4f53-a70b-aad23f03b4bf",
   "metadata": {},
   "source": [
    "Median percintiles for trend value gain"
   ]
  },
  {
   "cell_type": "code",
   "execution_count": 115,
   "id": "06339521-4d96-469d-9542-cd1a7a07f99a",
   "metadata": {},
   "outputs": [
    {
     "data": {
      "image/png": "[encoded data removed]",
      "text/plain": [
       "<Figure size 432x288 with 1 Axes>"
      ]
     },
     "metadata": {
      "needs_background": "light"
     },
     "output_type": "display_data"
    }
   ],
   "source": [
    "median_vals = [np.quantile(l, 0.5) for l in trends_val_list]\n",
    "plt.hist(x=median_vals, bins=30)\n",
    "plt.title(\"Распределение медианных изменений цены в тренде\")\n",
    "plt.show()"
   ]
  },
  {
   "cell_type": "markdown",
   "id": "dfe1c8a6-221f-465e-8534-4a09a3f217fd",
   "metadata": {},
   "source": [
    "Медианная доходность следования по сформировавшемуся тренду. Открываем позицию если обнаружили тренд, закрываем если тренд закончился. Относительная разница - доход."
   ]
  },
  {
   "cell_type": "code",
   "execution_count": 116,
   "id": "cca6e1db-6515-40d4-8696-a51eab8517a7",
   "metadata": {},
   "outputs": [
    {
     "data": {
      "image/png": "[encoded data removed]",
      "text/plain": [
       "<Figure size 432x288 with 1 Axes>"
      ]
     },
     "metadata": {
      "needs_background": "light"
     },
     "output_type": "display_data"
    }
   ],
   "source": [
    "median_gains = [np.quantile(l, 0.5) for l in trends_gain_list]\n",
    "plt.hist(x=median_gains, bins=30)\n",
    "plt.title(\"Распределение медианных доходности при следовании тренду\")\n",
    "plt.show()"
   ]
  },
  {
   "cell_type": "code",
   "execution_count": 117,
   "id": "2ea2536c-99c1-4a89-89b8-c50d380dc93b",
   "metadata": {},
   "outputs": [
    {
     "data": {
      "image/png": "[encoded data removed]",
      "text/plain": [
       "<Figure size 432x288 with 1 Axes>"
      ]
     },
     "metadata": {
      "needs_background": "light"
     },
     "output_type": "display_data"
    }
   ],
   "source": [
    "mean_gains = [np.mean(l) for l in trends_gain_list]\n",
    "plt.hist(x=mean_gains, bins=30)\n",
    "plt.title(\"Распределение средней доходности при следовании тренду\")\n",
    "plt.show()"
   ]
  },
  {
   "cell_type": "markdown",
   "id": "c9c0373d-d495-405b-b782-f167a1d609d8",
   "metadata": {},
   "source": [
    "Mean time coverage"
   ]
  },
  {
   "cell_type": "code",
   "execution_count": 118,
   "id": "9e534c85-4605-4dd3-9a50-b02d8a367001",
   "metadata": {},
   "outputs": [
    {
     "name": "stdout",
     "output_type": "stream",
     "text": [
      "Mean percentage of trend days in all: 43.65120937753605%\n"
     ]
    }
   ],
   "source": [
    "print(f\"Mean percentage of trend days in all: {100 * np.mean([trends_len_list[i].sum() / tickers_dfs[i].shape[0] for i in range(len(tickers_dfs))])}%\")"
   ]
  },
  {
   "cell_type": "markdown",
   "id": "52281822-0292-45f6-9061-cb9a0fa92a55",
   "metadata": {
    "tags": []
   },
   "source": [
    "##### При более короткой базовой длине тренда."
   ]
  },
  {
   "cell_type": "code",
   "execution_count": 119,
   "id": "1b964397-2cb6-4e7a-953c-e2e2bcde71e7",
   "metadata": {
    "collapsed": true,
    "jupyter": {
     "outputs_hidden": true
    },
    "tags": []
   },
   "outputs": [
    {
     "name": "stderr",
     "output_type": "stream",
     "text": [
      " 25%|████████████████████                                                             | 55/222 [02:46<08:41,  3.12s/it]C:\\Users\\Dell\\anaconda3\\lib\\site-packages\\statsmodels\\regression\\linear_model.py:1736: RuntimeWarning: divide by zero encountered in scalar divide\n",
      "  return 1 - self.ssr/self.centered_tss\n",
      " 64%|███████████████████████████████████████████████████▏                            | 142/222 [07:06<03:53,  2.91s/it]C:\\Users\\Dell\\anaconda3\\lib\\site-packages\\statsmodels\\regression\\linear_model.py:1736: RuntimeWarning: divide by zero encountered in scalar divide\n",
      "  return 1 - self.ssr/self.centered_tss\n",
      " 68%|██████████████████████████████████████████████████████▍                         | 151/222 [07:34<03:33,  3.00s/it]C:\\Users\\Dell\\anaconda3\\lib\\site-packages\\statsmodels\\regression\\linear_model.py:1736: RuntimeWarning: divide by zero encountered in scalar divide\n",
      "  return 1 - self.ssr/self.centered_tss\n",
      "C:\\Users\\Dell\\anaconda3\\lib\\site-packages\\statsmodels\\regression\\linear_model.py:1736: RuntimeWarning: divide by zero encountered in scalar divide\n",
      "  return 1 - self.ssr/self.centered_tss\n",
      "C:\\Users\\Dell\\anaconda3\\lib\\site-packages\\statsmodels\\regression\\linear_model.py:1736: RuntimeWarning: divide by zero encountered in scalar divide\n",
      "  return 1 - self.ssr/self.centered_tss\n",
      "C:\\Users\\Dell\\anaconda3\\lib\\site-packages\\statsmodels\\regression\\linear_model.py:1736: RuntimeWarning: divide by zero encountered in scalar divide\n",
      "  return 1 - self.ssr/self.centered_tss\n",
      " 91%|█████████████████████████████████████████████████████████████████████████▏      | 203/222 [10:11<01:00,  3.17s/it]C:\\Users\\Dell\\anaconda3\\lib\\site-packages\\statsmodels\\regression\\linear_model.py:1736: RuntimeWarning: divide by zero encountered in scalar divide\n",
      "  return 1 - self.ssr/self.centered_tss\n",
      "C:\\Users\\Dell\\anaconda3\\lib\\site-packages\\statsmodels\\regression\\linear_model.py:1736: RuntimeWarning: divide by zero encountered in scalar divide\n",
      "  return 1 - self.ssr/self.centered_tss\n",
      "C:\\Users\\Dell\\anaconda3\\lib\\site-packages\\statsmodels\\regression\\linear_model.py:1736: RuntimeWarning: divide by zero encountered in scalar divide\n",
      "  return 1 - self.ssr/self.centered_tss\n",
      "C:\\Users\\Dell\\anaconda3\\lib\\site-packages\\statsmodels\\regression\\linear_model.py:1736: RuntimeWarning: divide by zero encountered in scalar divide\n",
      "  return 1 - self.ssr/self.centered_tss\n",
      "C:\\Users\\Dell\\anaconda3\\lib\\site-packages\\statsmodels\\regression\\linear_model.py:1736: RuntimeWarning: divide by zero encountered in scalar divide\n",
      "  return 1 - self.ssr/self.centered_tss\n",
      "C:\\Users\\Dell\\anaconda3\\lib\\site-packages\\statsmodels\\regression\\linear_model.py:1736: RuntimeWarning: divide by zero encountered in scalar divide\n",
      "  return 1 - self.ssr/self.centered_tss\n",
      "C:\\Users\\Dell\\anaconda3\\lib\\site-packages\\statsmodels\\regression\\linear_model.py:1736: RuntimeWarning: divide by zero encountered in scalar divide\n",
      "  return 1 - self.ssr/self.centered_tss\n",
      "C:\\Users\\Dell\\anaconda3\\lib\\site-packages\\statsmodels\\regression\\linear_model.py:1736: RuntimeWarning: divide by zero encountered in scalar divide\n",
      "  return 1 - self.ssr/self.centered_tss\n",
      "C:\\Users\\Dell\\anaconda3\\lib\\site-packages\\statsmodels\\regression\\linear_model.py:1736: RuntimeWarning: divide by zero encountered in scalar divide\n",
      "  return 1 - self.ssr/self.centered_tss\n",
      "C:\\Users\\Dell\\anaconda3\\lib\\site-packages\\statsmodels\\regression\\linear_model.py:1736: RuntimeWarning: divide by zero encountered in scalar divide\n",
      "  return 1 - self.ssr/self.centered_tss\n",
      "C:\\Users\\Dell\\anaconda3\\lib\\site-packages\\statsmodels\\regression\\linear_model.py:1736: RuntimeWarning: divide by zero encountered in scalar divide\n",
      "  return 1 - self.ssr/self.centered_tss\n",
      "C:\\Users\\Dell\\anaconda3\\lib\\site-packages\\statsmodels\\regression\\linear_model.py:1736: RuntimeWarning: divide by zero encountered in scalar divide\n",
      "  return 1 - self.ssr/self.centered_tss\n",
      "C:\\Users\\Dell\\anaconda3\\lib\\site-packages\\statsmodels\\regression\\linear_model.py:1736: RuntimeWarning: divide by zero encountered in scalar divide\n",
      "  return 1 - self.ssr/self.centered_tss\n",
      "C:\\Users\\Dell\\anaconda3\\lib\\site-packages\\statsmodels\\regression\\linear_model.py:1736: RuntimeWarning: divide by zero encountered in scalar divide\n",
      "  return 1 - self.ssr/self.centered_tss\n",
      "C:\\Users\\Dell\\anaconda3\\lib\\site-packages\\statsmodels\\regression\\linear_model.py:1736: RuntimeWarning: divide by zero encountered in scalar divide\n",
      "  return 1 - self.ssr/self.centered_tss\n",
      "100%|████████████████████████████████████████████████████████████████████████████████| 222/222 [11:08<00:00,  3.01s/it]\n"
     ]
    }
   ],
   "source": [
    "trends_len_list, trends_val_list, trends_gain_list = [], [], []\n",
    "for df in tqdm(tickers_dfs):\n",
    "    trends_len, trends_val, trends_late_gain, trends_starts = detect_trends(df[\"Close\"],\n",
    "                                                                            min_trend_len=5,\n",
    "                                                                            max_trend_len=100,\n",
    "                                                                            min_r2=0.8,\n",
    "                                                                            min_trend_dir=0.005)\n",
    "    trends_len_list.append(trends_len)\n",
    "    trends_val_list.append(trends_val)\n",
    "    trends_gain_list.append(trends_late_gain)"
   ]
  },
  {
   "cell_type": "markdown",
   "id": "a3e99da0-9ff0-4baa-96fa-9d9c72495a49",
   "metadata": {},
   "source": [
    "Median percintiles for trend length"
   ]
  },
  {
   "cell_type": "code",
   "execution_count": 120,
   "id": "b612fc68-6912-4bc3-b967-ff4eadf2f285",
   "metadata": {},
   "outputs": [
    {
     "data": {
      "image/png": "[encoded data removed]",
      "text/plain": [
       "<Figure size 432x288 with 1 Axes>"
      ]
     },
     "metadata": {
      "needs_background": "light"
     },
     "output_type": "display_data"
    }
   ],
   "source": [
    "median_lens = [np.quantile(l, 0.5) for l in trends_len_list]\n",
    "plt.hist(x=median_lens, bins=len(np.unique(median_lens)))\n",
    "plt.title(\"Распределение медианных длин\")\n",
    "plt.show()"
   ]
  },
  {
   "cell_type": "code",
   "execution_count": 121,
   "id": "13ff6c27-5146-40d0-9609-ebeb69b7c1c6",
   "metadata": {},
   "outputs": [
    {
     "data": {
      "image/png": "[encoded data removed]",
      "text/plain": [
       "<Figure size 432x288 with 1 Axes>"
      ]
     },
     "metadata": {
      "needs_background": "light"
     },
     "output_type": "display_data"
    }
   ],
   "source": [
    "mean_lens = [np.mean(l) for l in trends_len_list]\n",
    "plt.hist(x=mean_lens, bins=20)\n",
    "plt.title(\"Распределение средних длин\")\n",
    "plt.show()"
   ]
  },
  {
   "cell_type": "markdown",
   "id": "24cfd960-4fce-4ddb-9c85-af11d723204d",
   "metadata": {},
   "source": [
    "Median percintiles for trend value gain"
   ]
  },
  {
   "cell_type": "code",
   "execution_count": 122,
   "id": "a11e127c-ca03-4ce8-a8af-14fbfcd5a42a",
   "metadata": {},
   "outputs": [
    {
     "data": {
      "image/png": "[encoded data removed]",
      "text/plain": [
       "<Figure size 432x288 with 1 Axes>"
      ]
     },
     "metadata": {
      "needs_background": "light"
     },
     "output_type": "display_data"
    }
   ],
   "source": [
    "median_vals = [np.quantile(l, 0.5) for l in trends_val_list]\n",
    "plt.hist(x=median_vals, bins=30)\n",
    "plt.title(\"Распределение медианных изменений цены в тренде\")\n",
    "plt.show()"
   ]
  },
  {
   "cell_type": "markdown",
   "id": "6efc22e6-8946-4083-8fe8-77f21d8be3af",
   "metadata": {},
   "source": [
    "Медианная доходность следования по сформировавшемуся тренду. Открываем позицию если обнаружили тренд, закрываем если тренд закончился. Относительная разница - доход."
   ]
  },
  {
   "cell_type": "code",
   "execution_count": 123,
   "id": "d9ded448-4cf6-4fd6-aa43-a6e24dc1e2b5",
   "metadata": {},
   "outputs": [
    {
     "data": {
      "image/png": "[encoded data removed]",
      "text/plain": [
       "<Figure size 432x288 with 1 Axes>"
      ]
     },
     "metadata": {
      "needs_background": "light"
     },
     "output_type": "display_data"
    }
   ],
   "source": [
    "median_gains = [np.quantile(l, 0.5) for l in trends_gain_list]\n",
    "plt.hist(x=median_gains, bins=30)\n",
    "plt.title(\"Распределение медианных доходности при следовании тренду\")\n",
    "plt.show()"
   ]
  },
  {
   "cell_type": "code",
   "execution_count": 124,
   "id": "7a3a04ec-0d22-4485-a39c-3039c65d7707",
   "metadata": {},
   "outputs": [
    {
     "data": {
      "image/png": "[encoded data removed]",
      "text/plain": [
       "<Figure size 432x288 with 1 Axes>"
      ]
     },
     "metadata": {
      "needs_background": "light"
     },
     "output_type": "display_data"
    }
   ],
   "source": [
    "mean_gains = [np.mean(l) for l in trends_gain_list]\n",
    "plt.hist(x=mean_gains, bins=30)\n",
    "plt.title(\"Распределение средней доходности при следовании тренду\")\n",
    "plt.show()"
   ]
  },
  {
   "cell_type": "markdown",
   "id": "0e2a856c-6f25-424c-b1a9-8e827c5d142a",
   "metadata": {},
   "source": [
    "Mean time coverage"
   ]
  },
  {
   "cell_type": "code",
   "execution_count": 125,
   "id": "eb105dec-2baa-476f-bee8-e98911cd379b",
   "metadata": {},
   "outputs": [
    {
     "name": "stdout",
     "output_type": "stream",
     "text": [
      "Mean percentage of trend days in all: 46.165826868781885%\n"
     ]
    }
   ],
   "source": [
    "print(f\"Mean percentage of trend days in all: {100 * np.mean([trends_len_list[i].sum() / tickers_dfs[i].shape[0] for i in range(len(tickers_dfs))])}%\")"
   ]
  },
  {
   "cell_type": "markdown",
   "id": "732f9736-59ac-4522-8643-192bd7ed4928",
   "metadata": {
    "tags": []
   },
   "source": [
    "##### При более жестких условиях отбора."
   ]
  },
  {
   "cell_type": "code",
   "execution_count": 126,
   "id": "3ded6b0f-7ca9-46eb-ad98-72ea0eb0f927",
   "metadata": {
    "collapsed": true,
    "jupyter": {
     "outputs_hidden": true
    },
    "tags": []
   },
   "outputs": [
    {
     "name": "stderr",
     "output_type": "stream",
     "text": [
      " 68%|██████████████████████████████████████████████████████▍                         | 151/222 [08:21<03:51,  3.26s/it]C:\\Users\\Dell\\anaconda3\\lib\\site-packages\\statsmodels\\regression\\linear_model.py:1736: RuntimeWarning: divide by zero encountered in scalar divide\n",
      "  return 1 - self.ssr/self.centered_tss\n",
      " 91%|█████████████████████████████████████████████████████████████████████████▏      | 203/222 [11:13<01:06,  3.50s/it]C:\\Users\\Dell\\anaconda3\\lib\\site-packages\\statsmodels\\regression\\linear_model.py:1736: RuntimeWarning: divide by zero encountered in scalar divide\n",
      "  return 1 - self.ssr/self.centered_tss\n",
      "C:\\Users\\Dell\\anaconda3\\lib\\site-packages\\statsmodels\\regression\\linear_model.py:1736: RuntimeWarning: divide by zero encountered in scalar divide\n",
      "  return 1 - self.ssr/self.centered_tss\n",
      "C:\\Users\\Dell\\anaconda3\\lib\\site-packages\\statsmodels\\regression\\linear_model.py:1736: RuntimeWarning: divide by zero encountered in scalar divide\n",
      "  return 1 - self.ssr/self.centered_tss\n",
      "C:\\Users\\Dell\\anaconda3\\lib\\site-packages\\statsmodels\\regression\\linear_model.py:1736: RuntimeWarning: divide by zero encountered in scalar divide\n",
      "  return 1 - self.ssr/self.centered_tss\n",
      "C:\\Users\\Dell\\anaconda3\\lib\\site-packages\\statsmodels\\regression\\linear_model.py:1736: RuntimeWarning: divide by zero encountered in scalar divide\n",
      "  return 1 - self.ssr/self.centered_tss\n",
      "C:\\Users\\Dell\\anaconda3\\lib\\site-packages\\statsmodels\\regression\\linear_model.py:1736: RuntimeWarning: divide by zero encountered in scalar divide\n",
      "  return 1 - self.ssr/self.centered_tss\n",
      "C:\\Users\\Dell\\anaconda3\\lib\\site-packages\\statsmodels\\regression\\linear_model.py:1736: RuntimeWarning: divide by zero encountered in scalar divide\n",
      "  return 1 - self.ssr/self.centered_tss\n",
      "C:\\Users\\Dell\\anaconda3\\lib\\site-packages\\statsmodels\\regression\\linear_model.py:1736: RuntimeWarning: divide by zero encountered in scalar divide\n",
      "  return 1 - self.ssr/self.centered_tss\n",
      "100%|████████████████████████████████████████████████████████████████████████████████| 222/222 [12:17<00:00,  3.32s/it]\n"
     ]
    }
   ],
   "source": [
    "trends_len_list, trends_val_list, trends_gain_list = [], [], []\n",
    "for df in tqdm(tickers_dfs):\n",
    "    trends_len, trends_val, trends_late_gain, trends_starts = detect_trends(df[\"Close\"], min_trend_len=8, max_trend_len=100, min_r2=0.9, min_trend_dir=0.0075)\n",
    "    trends_len_list.append(trends_len)\n",
    "    trends_val_list.append(trends_val)\n",
    "    trends_gain_list.append(trends_late_gain)"
   ]
  },
  {
   "cell_type": "code",
   "execution_count": 127,
   "id": "0c7507a9-b037-44b4-9e64-3a05677e9255",
   "metadata": {},
   "outputs": [
    {
     "data": {
      "image/png": "[encoded data removed]",
      "text/plain": [
       "<Figure size 432x288 with 1 Axes>"
      ]
     },
     "metadata": {
      "needs_background": "light"
     },
     "output_type": "display_data"
    }
   ],
   "source": [
    "median_lens = [np.quantile(l, 0.5) for l in trends_len_list]\n",
    "plt.hist(x=median_lens, bins=len(np.unique(median_lens)))\n",
    "plt.title(\"Распределение медианных длин\")\n",
    "plt.show()"
   ]
  },
  {
   "cell_type": "code",
   "execution_count": 128,
   "id": "33d3c910-3322-480e-8e52-6b7167b73b77",
   "metadata": {},
   "outputs": [
    {
     "data": {
      "image/png": "[encoded data removed]",
      "text/plain": [
       "<Figure size 432x288 with 1 Axes>"
      ]
     },
     "metadata": {
      "needs_background": "light"
     },
     "output_type": "display_data"
    }
   ],
   "source": [
    "mean_lens = [np.mean(l) for l in trends_len_list]\n",
    "plt.hist(x=mean_lens, bins=20)\n",
    "plt.title(\"Распределение средних длин\")\n",
    "plt.show()"
   ]
  },
  {
   "cell_type": "markdown",
   "id": "0c308c3d-82b8-4916-a97e-f3c8abc9805d",
   "metadata": {},
   "source": [
    "Median percintiles for trend value gain"
   ]
  },
  {
   "cell_type": "code",
   "execution_count": 129,
   "id": "22548e74-75ba-4baa-9cc9-45b71fe539e9",
   "metadata": {},
   "outputs": [
    {
     "data": {
      "image/png": "[encoded data removed]",
      "text/plain": [
       "<Figure size 432x288 with 1 Axes>"
      ]
     },
     "metadata": {
      "needs_background": "light"
     },
     "output_type": "display_data"
    }
   ],
   "source": [
    "median_vals = [np.quantile(l, 0.5) for l in trends_val_list]\n",
    "plt.hist(x=median_vals, bins=30)\n",
    "plt.title(\"Распределение медианных изменений цены в тренде\")\n",
    "plt.show()"
   ]
  },
  {
   "cell_type": "markdown",
   "id": "d4a86da4-bc1b-4ea8-be53-be4610967e2f",
   "metadata": {},
   "source": [
    "Медианная доходность следования по сформировавшемуся тренду. Открываем позицию если обнаружили тренд, закрываем если тренд закончился. Относительная разница - доход."
   ]
  },
  {
   "cell_type": "code",
   "execution_count": 130,
   "id": "5b29cbc8-1d6c-4d62-b00f-9fe261e99a28",
   "metadata": {},
   "outputs": [
    {
     "data": {
      "image/png": "[encoded data removed]",
      "text/plain": [
       "<Figure size 432x288 with 1 Axes>"
      ]
     },
     "metadata": {
      "needs_background": "light"
     },
     "output_type": "display_data"
    }
   ],
   "source": [
    "median_gains = [np.quantile(l, 0.5) for l in trends_gain_list]\n",
    "plt.hist(x=median_gains, bins=30)\n",
    "plt.title(\"Распределение медианных доходности при следовании тренду\")\n",
    "plt.show()"
   ]
  },
  {
   "cell_type": "code",
   "execution_count": 131,
   "id": "7292704b-774d-4a10-af25-03e2bb579c45",
   "metadata": {},
   "outputs": [
    {
     "data": {
      "image/png": "[encoded data removed]",
      "text/plain": [
       "<Figure size 432x288 with 1 Axes>"
      ]
     },
     "metadata": {
      "needs_background": "light"
     },
     "output_type": "display_data"
    }
   ],
   "source": [
    "mean_gains = [np.mean(l) for l in trends_gain_list]\n",
    "plt.hist(x=mean_gains, bins=30)\n",
    "plt.title(\"Распределение средней доходности при следовании тренду\")\n",
    "plt.show()"
   ]
  },
  {
   "cell_type": "markdown",
   "id": "d7085d0c-f10d-416e-9a29-e950a4bfd4fc",
   "metadata": {},
   "source": [
    "Mean time coverage"
   ]
  },
  {
   "cell_type": "code",
   "execution_count": 132,
   "id": "fbfa2cec-2ca9-46d1-9e46-b0d5e2f51310",
   "metadata": {},
   "outputs": [
    {
     "name": "stdout",
     "output_type": "stream",
     "text": [
      "Mean percentage of trend days in all: 14.687036700900855%\n"
     ]
    }
   ],
   "source": [
    "print(f\"Mean percentage of trend days in all: {100 * np.mean([trends_len_list[i].sum() / tickers_dfs[i].shape[0] for i in range(len(tickers_dfs))])}%\")"
   ]
  },
  {
   "cell_type": "markdown",
   "id": "e5f811d3-7bd9-4631-b788-37a7e8fa2367",
   "metadata": {
    "tags": []
   },
   "source": [
    "##### При большой длине базового периода."
   ]
  },
  {
   "cell_type": "code",
   "execution_count": 133,
   "id": "4146082e-e6dd-4ab6-88a3-4ccb47cae2a6",
   "metadata": {
    "collapsed": true,
    "jupyter": {
     "outputs_hidden": true
    },
    "tags": []
   },
   "outputs": [
    {
     "name": "stderr",
     "output_type": "stream",
     "text": [
      " 91%|█████████████████████████████████████████████████████████████████████████▏      | 203/222 [10:01<00:59,  3.15s/it]C:\\Users\\Dell\\anaconda3\\lib\\site-packages\\statsmodels\\regression\\linear_model.py:1736: RuntimeWarning: divide by zero encountered in scalar divide\n",
      "  return 1 - self.ssr/self.centered_tss\n",
      "C:\\Users\\Dell\\anaconda3\\lib\\site-packages\\statsmodels\\regression\\linear_model.py:1736: RuntimeWarning: divide by zero encountered in scalar divide\n",
      "  return 1 - self.ssr/self.centered_tss\n",
      "C:\\Users\\Dell\\anaconda3\\lib\\site-packages\\statsmodels\\regression\\linear_model.py:1736: RuntimeWarning: divide by zero encountered in scalar divide\n",
      "  return 1 - self.ssr/self.centered_tss\n",
      "C:\\Users\\Dell\\anaconda3\\lib\\site-packages\\statsmodels\\regression\\linear_model.py:1736: RuntimeWarning: divide by zero encountered in scalar divide\n",
      "  return 1 - self.ssr/self.centered_tss\n",
      "C:\\Users\\Dell\\anaconda3\\lib\\site-packages\\statsmodels\\regression\\linear_model.py:1736: RuntimeWarning: divide by zero encountered in scalar divide\n",
      "  return 1 - self.ssr/self.centered_tss\n",
      "100%|████████████████████████████████████████████████████████████████████████████████| 222/222 [10:58<00:00,  2.96s/it]\n"
     ]
    }
   ],
   "source": [
    "trends_len_list, trends_val_list, trends_gain_list = [], [], []\n",
    "for df in tqdm(tickers_dfs):\n",
    "    trends_len, trends_val, trends_late_gain, trends_starts = detect_trends(df[\"Close\"], min_trend_len=15, max_trend_len=100, min_r2=0.8, min_trend_dir=0.005)\n",
    "    trends_len_list.append(trends_len)\n",
    "    trends_val_list.append(trends_val)\n",
    "    trends_gain_list.append(trends_late_gain)"
   ]
  },
  {
   "cell_type": "code",
   "execution_count": 134,
   "id": "66a6e656-1bd5-4bae-b474-f698f004b523",
   "metadata": {},
   "outputs": [
    {
     "data": {
      "image/png": "[encoded data removed]",
      "text/plain": [
       "<Figure size 432x288 with 1 Axes>"
      ]
     },
     "metadata": {
      "needs_background": "light"
     },
     "output_type": "display_data"
    }
   ],
   "source": [
    "median_lens = [np.quantile(l, 0.5) for l in trends_len_list]\n",
    "plt.hist(x=median_lens, bins=len(np.unique(median_lens)))\n",
    "plt.title(\"Распределение медианных длин\")\n",
    "plt.show()"
   ]
  },
  {
   "cell_type": "code",
   "execution_count": 135,
   "id": "12b8b7ff-dea8-4a06-b164-e58660401372",
   "metadata": {},
   "outputs": [
    {
     "data": {
      "image/png": "[encoded data removed]",
      "text/plain": [
       "<Figure size 432x288 with 1 Axes>"
      ]
     },
     "metadata": {
      "needs_background": "light"
     },
     "output_type": "display_data"
    }
   ],
   "source": [
    "mean_lens = [np.mean(l) for l in trends_len_list]\n",
    "plt.hist(x=mean_lens, bins=20)\n",
    "plt.title(\"Распределение средних длин\")\n",
    "plt.show()"
   ]
  },
  {
   "cell_type": "markdown",
   "id": "e0bd0d88-77fe-406d-985b-c8181d2097bb",
   "metadata": {},
   "source": [
    "Median percintiles for trend value gain"
   ]
  },
  {
   "cell_type": "code",
   "execution_count": 136,
   "id": "e13851ce-ea83-46fb-8a90-3293447508e6",
   "metadata": {},
   "outputs": [
    {
     "data": {
      "image/png": "[encoded data removed]",
      "text/plain": [
       "<Figure size 432x288 with 1 Axes>"
      ]
     },
     "metadata": {
      "needs_background": "light"
     },
     "output_type": "display_data"
    }
   ],
   "source": [
    "median_vals = [np.quantile(l, 0.5) for l in trends_val_list]\n",
    "plt.hist(x=median_vals, bins=30)\n",
    "plt.title(\"Распределение медианных изменений цены в тренде\")\n",
    "plt.show()"
   ]
  },
  {
   "cell_type": "markdown",
   "id": "5317ddbe-fe34-42fc-82de-30ec5c6c7ac6",
   "metadata": {},
   "source": [
    "Медианная доходность следования по сформировавшемуся тренду. Открываем позицию если обнаружили тренд, закрываем если тренд закончился. Относительная разница - доход."
   ]
  },
  {
   "cell_type": "code",
   "execution_count": 137,
   "id": "8e04aca2-b39e-4eff-89f5-692ed0e06614",
   "metadata": {},
   "outputs": [
    {
     "data": {
      "image/png": "[encoded data removed]",
      "text/plain": [
       "<Figure size 432x288 with 1 Axes>"
      ]
     },
     "metadata": {
      "needs_background": "light"
     },
     "output_type": "display_data"
    }
   ],
   "source": [
    "median_gains = [np.quantile(l, 0.5) for l in trends_gain_list]\n",
    "plt.hist(x=median_gains, bins=30)\n",
    "plt.title(\"Распределение медианных доходности при следовании тренду\")\n",
    "plt.show()"
   ]
  },
  {
   "cell_type": "code",
   "execution_count": 138,
   "id": "d4d3b77f-1048-4876-96a1-c6e71cff9383",
   "metadata": {},
   "outputs": [
    {
     "data": {
      "image/png": "[encoded data removed]",
      "text/plain": [
       "<Figure size 432x288 with 1 Axes>"
      ]
     },
     "metadata": {
      "needs_background": "light"
     },
     "output_type": "display_data"
    }
   ],
   "source": [
    "mean_gains = [np.mean(l) for l in trends_gain_list]\n",
    "plt.hist(x=mean_gains, bins=30)\n",
    "plt.title(\"Распределение средней доходности при следовании тренду\")\n",
    "plt.show()"
   ]
  },
  {
   "cell_type": "markdown",
   "id": "24e5b1ff-ef8f-4e21-8ac5-37bd4b18583f",
   "metadata": {},
   "source": [
    "Mean time coverage"
   ]
  },
  {
   "cell_type": "code",
   "execution_count": 139,
   "id": "61844d52-7c80-44ea-9112-042dd02ad6e3",
   "metadata": {},
   "outputs": [
    {
     "name": "stdout",
     "output_type": "stream",
     "text": [
      "Mean percentage of trend days in all: 39.899587746944526%\n"
     ]
    }
   ],
   "source": [
    "print(f\"Mean percentage of trend days in all: {100 * np.mean([trends_len_list[i].sum() / tickers_dfs[i].shape[0] for i in range(len(tickers_dfs))])}%\")"
   ]
  },
  {
   "cell_type": "markdown",
   "id": "cd2522ef-dca7-4a93-9888-dfa4ef952d2a",
   "metadata": {
    "tags": []
   },
   "source": [
    "##### При стандартной базовой длине тренда и более мягких условиях отбора."
   ]
  },
  {
   "cell_type": "code",
   "execution_count": 140,
   "id": "89a439ab-5b0a-458f-a715-3958de250b3a",
   "metadata": {
    "collapsed": true,
    "jupyter": {
     "outputs_hidden": true
    },
    "tags": []
   },
   "outputs": [
    {
     "name": "stderr",
     "output_type": "stream",
     "text": [
      " 68%|██████████████████████████████████████████████████████▍                         | 151/222 [07:31<03:32,  2.99s/it]C:\\Users\\Dell\\anaconda3\\lib\\site-packages\\statsmodels\\regression\\linear_model.py:1736: RuntimeWarning: divide by zero encountered in scalar divide\n",
      "  return 1 - self.ssr/self.centered_tss\n",
      " 91%|█████████████████████████████████████████████████████████████████████████▏      | 203/222 [10:09<00:59,  3.15s/it]C:\\Users\\Dell\\anaconda3\\lib\\site-packages\\statsmodels\\regression\\linear_model.py:1736: RuntimeWarning: divide by zero encountered in scalar divide\n",
      "  return 1 - self.ssr/self.centered_tss\n",
      "C:\\Users\\Dell\\anaconda3\\lib\\site-packages\\statsmodels\\regression\\linear_model.py:1736: RuntimeWarning: divide by zero encountered in scalar divide\n",
      "  return 1 - self.ssr/self.centered_tss\n",
      "C:\\Users\\Dell\\anaconda3\\lib\\site-packages\\statsmodels\\regression\\linear_model.py:1736: RuntimeWarning: divide by zero encountered in scalar divide\n",
      "  return 1 - self.ssr/self.centered_tss\n",
      "C:\\Users\\Dell\\anaconda3\\lib\\site-packages\\statsmodels\\regression\\linear_model.py:1736: RuntimeWarning: divide by zero encountered in scalar divide\n",
      "  return 1 - self.ssr/self.centered_tss\n",
      "C:\\Users\\Dell\\anaconda3\\lib\\site-packages\\statsmodels\\regression\\linear_model.py:1736: RuntimeWarning: divide by zero encountered in scalar divide\n",
      "  return 1 - self.ssr/self.centered_tss\n",
      "C:\\Users\\Dell\\anaconda3\\lib\\site-packages\\statsmodels\\regression\\linear_model.py:1736: RuntimeWarning: divide by zero encountered in scalar divide\n",
      "  return 1 - self.ssr/self.centered_tss\n",
      "C:\\Users\\Dell\\anaconda3\\lib\\site-packages\\statsmodels\\regression\\linear_model.py:1736: RuntimeWarning: divide by zero encountered in scalar divide\n",
      "  return 1 - self.ssr/self.centered_tss\n",
      "C:\\Users\\Dell\\anaconda3\\lib\\site-packages\\statsmodels\\regression\\linear_model.py:1736: RuntimeWarning: divide by zero encountered in scalar divide\n",
      "  return 1 - self.ssr/self.centered_tss\n",
      "C:\\Users\\Dell\\anaconda3\\lib\\site-packages\\statsmodels\\regression\\linear_model.py:1736: RuntimeWarning: divide by zero encountered in scalar divide\n",
      "  return 1 - self.ssr/self.centered_tss\n",
      "C:\\Users\\Dell\\anaconda3\\lib\\site-packages\\statsmodels\\regression\\linear_model.py:1736: RuntimeWarning: divide by zero encountered in scalar divide\n",
      "  return 1 - self.ssr/self.centered_tss\n",
      "C:\\Users\\Dell\\anaconda3\\lib\\site-packages\\statsmodels\\regression\\linear_model.py:1736: RuntimeWarning: divide by zero encountered in scalar divide\n",
      "  return 1 - self.ssr/self.centered_tss\n",
      "C:\\Users\\Dell\\anaconda3\\lib\\site-packages\\statsmodels\\regression\\linear_model.py:1736: RuntimeWarning: divide by zero encountered in scalar divide\n",
      "  return 1 - self.ssr/self.centered_tss\n",
      "100%|████████████████████████████████████████████████████████████████████████████████| 222/222 [11:05<00:00,  3.00s/it]\n"
     ]
    }
   ],
   "source": [
    "trends_len_list, trends_val_list, trends_gain_list = [], [], []\n",
    "for df in tqdm(tickers_dfs):\n",
    "    trends_len, trends_val, trends_late_gain, trends_starts = detect_trends(df[\"Close\"], min_trend_len=8, max_trend_len=100, min_r2=0.75, min_trend_dir=0.0025)\n",
    "    trends_len_list.append(trends_len)\n",
    "    trends_val_list.append(trends_val)\n",
    "    trends_gain_list.append(trends_late_gain)"
   ]
  },
  {
   "cell_type": "code",
   "execution_count": 141,
   "id": "a9a15583-2fd8-4ecf-b09d-88755e261221",
   "metadata": {},
   "outputs": [
    {
     "data": {
      "image/png": "[encoded data removed]",
      "text/plain": [
       "<Figure size 432x288 with 1 Axes>"
      ]
     },
     "metadata": {
      "needs_background": "light"
     },
     "output_type": "display_data"
    }
   ],
   "source": [
    "median_lens = [np.quantile(l, 0.5) for l in trends_len_list]\n",
    "plt.hist(x=median_lens, bins=len(np.unique(median_lens)))\n",
    "plt.title(\"Распределение медианных длин\")\n",
    "plt.show()"
   ]
  },
  {
   "cell_type": "code",
   "execution_count": 142,
   "id": "ff23b9b1-d207-484e-bb7b-565ff55d1d53",
   "metadata": {},
   "outputs": [
    {
     "data": {
      "image/png": "[encoded data removed]",
      "text/plain": [
       "<Figure size 432x288 with 1 Axes>"
      ]
     },
     "metadata": {
      "needs_background": "light"
     },
     "output_type": "display_data"
    }
   ],
   "source": [
    "mean_lens = [np.mean(l) for l in trends_len_list]\n",
    "plt.hist(x=mean_lens, bins=20)\n",
    "plt.title(\"Распределение средних длин\")\n",
    "plt.show()"
   ]
  },
  {
   "cell_type": "markdown",
   "id": "f8e1cc25-c50e-4225-bc61-69465e6e5f84",
   "metadata": {},
   "source": [
    "Median percintiles for trend value gain"
   ]
  },
  {
   "cell_type": "code",
   "execution_count": 143,
   "id": "07871044-3fbe-477b-921e-df3ca0147023",
   "metadata": {},
   "outputs": [
    {
     "data": {
      "image/png": "[encoded data removed]",
      "text/plain": [
       "<Figure size 432x288 with 1 Axes>"
      ]
     },
     "metadata": {
      "needs_background": "light"
     },
     "output_type": "display_data"
    }
   ],
   "source": [
    "median_vals = [np.quantile(l, 0.5) for l in trends_val_list]\n",
    "plt.hist(x=median_vals, bins=30)\n",
    "plt.title(\"Распределение медианных изменений цены в тренде\")\n",
    "plt.show()"
   ]
  },
  {
   "cell_type": "markdown",
   "id": "79073c4b-0e6a-41a5-ba65-974b184a0fa6",
   "metadata": {},
   "source": [
    "Медианная доходность следования по сформировавшемуся тренду. Открываем позицию если обнаружили тренд, закрываем если тренд закончился. Относительная разница - доход."
   ]
  },
  {
   "cell_type": "code",
   "execution_count": 144,
   "id": "b477a003-087b-42c5-b43c-cf6deda710a4",
   "metadata": {},
   "outputs": [
    {
     "data": {
      "image/png": "[encoded data removed]",
      "text/plain": [
       "<Figure size 432x288 with 1 Axes>"
      ]
     },
     "metadata": {
      "needs_background": "light"
     },
     "output_type": "display_data"
    }
   ],
   "source": [
    "median_gains = [np.quantile(l, 0.5) for l in trends_gain_list]\n",
    "plt.hist(x=median_gains, bins=30)\n",
    "plt.title(\"Распределение медианных доходности при следовании тренду\")\n",
    "plt.show()"
   ]
  },
  {
   "cell_type": "code",
   "execution_count": 145,
   "id": "8157c5c1-5674-4e2b-828a-496d21b34e3b",
   "metadata": {},
   "outputs": [
    {
     "data": {
      "image/png": "[encoded data removed]",
      "text/plain": [
       "<Figure size 432x288 with 1 Axes>"
      ]
     },
     "metadata": {
      "needs_background": "light"
     },
     "output_type": "display_data"
    }
   ],
   "source": [
    "mean_gains = [np.mean(l) for l in trends_gain_list]\n",
    "plt.hist(x=mean_gains, bins=30)\n",
    "plt.title(\"Распределение средней доходности при следовании тренду\")\n",
    "plt.show()"
   ]
  },
  {
   "cell_type": "markdown",
   "id": "26552e8b-9606-40c1-82d5-55eccf810eb5",
   "metadata": {},
   "source": [
    "Mean time coverage"
   ]
  },
  {
   "cell_type": "code",
   "execution_count": 146,
   "id": "b52237d9-66ab-4fce-9538-b6de988b4770",
   "metadata": {},
   "outputs": [
    {
     "name": "stdout",
     "output_type": "stream",
     "text": [
      "Mean percentage of trend days in all: 58.89708592922893%\n"
     ]
    }
   ],
   "source": [
    "print(f\"Mean percentage of trend days in all: {100 * np.mean([trends_len_list[i].sum() / tickers_dfs[i].shape[0] for i in range(len(tickers_dfs))])}%\")"
   ]
  },
  {
   "cell_type": "markdown",
   "id": "c81c9440-005c-451f-8e74-90d43c32112f",
   "metadata": {},
   "source": [
    "## тест Льюнга-Бокса"
   ]
  },
  {
   "cell_type": "code",
   "execution_count": 66,
   "id": "b595faec-8116-4196-a1d6-e64e49dd4c43",
   "metadata": {},
   "outputs": [],
   "source": [
    "from statsmodels.stats.diagnostic import acorr_ljungbox"
   ]
  },
  {
   "cell_type": "code",
   "execution_count": 90,
   "id": "100f8a89-fda5-41fa-aaf0-e82f78f8be30",
   "metadata": {},
   "outputs": [],
   "source": [
    "lb_stats = np.array([acorr_ljungbox(x=df[\"Close\"].diff().iloc[1:], lags=[10], return_df=True)[\"lb_pvalue\"] for df in tickers_dfs]).flatten()"
   ]
  },
  {
   "cell_type": "code",
   "execution_count": 92,
   "id": "eb519889-8e68-44f2-bf88-cee2b3844a06",
   "metadata": {},
   "outputs": [
    {
     "data": {
      "text/plain": [
       "count     2.220000e+02\n",
       "mean      2.789269e-02\n",
       "std       9.907145e-02\n",
       "min      2.008124e-164\n",
       "25%       3.444156e-21\n",
       "50%       2.967673e-09\n",
       "75%       9.844387e-04\n",
       "max       7.952854e-01\n",
       "dtype: float64"
      ]
     },
     "execution_count": 92,
     "metadata": {},
     "output_type": "execute_result"
    }
   ],
   "source": [
    "pd.Series(lb_stats).describe()"
   ]
  },
  {
   "cell_type": "code",
   "execution_count": 93,
   "id": "1f41317c-8806-4e7c-9f73-06bc101cf390",
   "metadata": {},
   "outputs": [],
   "source": [
    "lb_stats = np.array([acorr_ljungbox(x=df[\"Close\"].diff().iloc[1:], lags=[5], return_df=True)[\"lb_pvalue\"] for df in tickers_dfs]).flatten()"
   ]
  },
  {
   "cell_type": "code",
   "execution_count": 94,
   "id": "7821ab9a-0a9a-4896-8557-cb57281cb4cc",
   "metadata": {},
   "outputs": [
    {
     "data": {
      "text/plain": [
       "count     2.220000e+02\n",
       "mean      7.547498e-02\n",
       "std       1.649017e-01\n",
       "min      6.431674e-150\n",
       "25%       2.838097e-08\n",
       "50%       4.869769e-04\n",
       "75%       5.405621e-02\n",
       "max       8.118158e-01\n",
       "dtype: float64"
      ]
     },
     "execution_count": 94,
     "metadata": {},
     "output_type": "execute_result"
    }
   ],
   "source": [
    "pd.Series(lb_stats).describe()"
   ]
  },
  {
   "cell_type": "code",
   "execution_count": null,
   "id": "2e146637-daa0-4695-bd16-a154dafb3a55",
   "metadata": {},
   "outputs": [],
   "source": []
  }
 ],
 "metadata": {
  "kernelspec": {
   "display_name": "Python 3 (ipykernel)",
   "language": "python",
   "name": "python3"
  },
  "language_info": {
   "codemirror_mode": {
    "name": "ipython",
    "version": 3
   },
   "file_extension": ".py",
   "mimetype": "text/x-python",
   "name": "python",
   "nbconvert_exporter": "python",
   "pygments_lexer": "ipython3",
   "version": "3.9.12"
  }
 },
 "nbformat": 4,
 "nbformat_minor": 5
}
