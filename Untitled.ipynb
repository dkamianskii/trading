{
 "cells": [
  {
   "cell_type": "code",
   "execution_count": 2,
   "id": "094a05c5-3b0c-4d8c-9719-d8132d9d3395",
   "metadata": {},
   "outputs": [],
   "source": [
    "import sys"
   ]
  },
  {
   "cell_type": "code",
   "execution_count": 3,
   "id": "aca6e241-10d0-489c-b153-901371e5170b",
   "metadata": {},
   "outputs": [],
   "source": [
    "sys.path.append(\".\")"
   ]
  },
  {
   "cell_type": "code",
   "execution_count": 4,
   "id": "d15d4a3e-d0c5-4b72-9f93-d30631ff2e00",
   "metadata": {},
   "outputs": [],
   "source": [
    "import pandas as pd\n",
    "import numpy as np"
   ]
  },
  {
   "cell_type": "code",
   "execution_count": 9,
   "id": "d1248f25-1fef-4b46-90c8-51384540df4e",
   "metadata": {},
   "outputs": [],
   "source": [
    "import pickle"
   ]
  },
  {
   "cell_type": "code",
   "execution_count": 13,
   "id": "dae26224-510e-43c1-ba2e-7889cea8446c",
   "metadata": {},
   "outputs": [],
   "source": [
    "from tqdm import tqdm"
   ]
  },
  {
   "cell_type": "code",
   "execution_count": 5,
   "id": "967433f8-f22b-4746-8d95-0b983b72ccd4",
   "metadata": {},
   "outputs": [],
   "source": [
    "from data_marking.trade_actions_marking import mark_trade_actions"
   ]
  },
  {
   "cell_type": "code",
   "execution_count": 7,
   "id": "7abc4be5-da8c-411e-a30a-7cdf1df2b704",
   "metadata": {},
   "outputs": [
    {
     "name": "stderr",
     "output_type": "stream",
     "text": [
      "C:\\Users\\Dell\\AppData\\Local\\Temp\\ipykernel_27632\\1270945221.py:11: SettingWithCopyWarning: \n",
      "A value is trying to be set on a copy of a slice from a DataFrame.\n",
      "Try using .loc[row_indexer,col_indexer] = value instead\n",
      "\n",
      "See the caveats in the documentation: https://pandas.pydata.org/pandas-docs/stable/user_guide/indexing.html#returning-a-view-versus-a-copy\n",
      "  df_price[\"Action\"] = ta\n"
     ]
    }
   ],
   "source": [
    "df = pd.read_csv(rf\"D:\\Trading\\raw_data\\special\\SP500.csv\", index_col=\"Date\", parse_dates=True)\n",
    "ta, pos_prof, year_yields = mark_trade_actions(stock_history=df,\n",
    "                   price_change_threshold=0.002,\n",
    "                   opening_change_level=0.02,\n",
    "                   max_days_without_confirm=8,\n",
    "                   opposite_dir_days_perc_threshold=0.7,\n",
    "                   opposite_change_threshold=0.5,\n",
    "                   max_days_without_new_high=5,\n",
    "                   days_before_end_to_stop=10)\n",
    "df_price = df[[\"Close\"]]\n",
    "df_price[\"Action\"] = ta"
   ]
  },
  {
   "cell_type": "code",
   "execution_count": 10,
   "id": "e8688e15-146e-4c39-913c-d8db99b6c935",
   "metadata": {},
   "outputs": [],
   "source": [
    "TICKETS_FILE = rf\"D:\\Work\\stocks_data\\tickets.pkl\""
   ]
  },
  {
   "cell_type": "code",
   "execution_count": 15,
   "id": "ec1ae9e6-f5f6-4c43-ae9d-60123ea4dac2",
   "metadata": {},
   "outputs": [],
   "source": [
    "with open(TICKETS_FILE, \"rb\") as f:\n",
    "    tickets_list = pickle.load(f) "
   ]
  },
  {
   "cell_type": "code",
   "execution_count": 43,
   "id": "556f7154-b84c-4f70-9a74-b120c7f53b90",
   "metadata": {},
   "outputs": [
    {
     "name": "stderr",
     "output_type": "stream",
     "text": [
      "100%|██████████████████████████████████████████████████████████████████████████████████| 75/75 [02:00<00:00,  1.60s/it]\n"
     ]
    }
   ],
   "source": [
    "pos_prof_means = []\n",
    "year_yield_means = []\n",
    "month_yield_means = []\n",
    "pos_num = []\n",
    "for ticket in tqdm(tickets_list):\n",
    "    df = pd.read_csv(rf\"D:\\Work\\stocks_data\\stocks_raw\\Russia\\{ticket}.csv\", index_col=\"Date\", parse_dates=True)\n",
    "    ta, pos_prof, year_yields = mark_trade_actions(stock_history=df,\n",
    "                       price_change_threshold=0.0035,\n",
    "                       opening_change_level=0.025,\n",
    "                       max_days_without_confirm=8,\n",
    "                       opposite_dir_days_perc_threshold=0.3,\n",
    "                       opposite_change_threshold=0.3,\n",
    "                       max_days_without_new_high=5,\n",
    "                       days_before_end_to_stop=10)\n",
    "    pos_num.append(len(pos_prof))\n",
    "    pos_prof *= 0.65\n",
    "    fails = np.random.choice([True, False], size=len(pos_prof), p=(0.35, 0.65))\n",
    "    pos_prof[fails] *= -1\n",
    "    pos_prof_means.append((pos_prof).mean())\n",
    "    year_yield_means.append((0.35*year_yields).mean())\n",
    "    month_yield_means.append(((0.35*year_yields)/12).mean())"
   ]
  },
  {
   "cell_type": "code",
   "execution_count": 44,
   "id": "096c7bfb-c68c-4cc7-9829-72a28e9860f9",
   "metadata": {},
   "outputs": [
    {
     "data": {
      "text/plain": [
       "176.58666666666667"
      ]
     },
     "execution_count": 44,
     "metadata": {},
     "output_type": "execute_result"
    }
   ],
   "source": [
    "np.mean(pos_num)"
   ]
  },
  {
   "cell_type": "code",
   "execution_count": 45,
   "id": "5764ced5-32fb-4746-80e1-ad3161debb9b",
   "metadata": {},
   "outputs": [
    {
     "data": {
      "text/plain": [
       "0.02515950822982806"
      ]
     },
     "execution_count": 45,
     "metadata": {},
     "output_type": "execute_result"
    }
   ],
   "source": [
    "np.mean(pos_prof_means)"
   ]
  },
  {
   "cell_type": "code",
   "execution_count": 46,
   "id": "4618405d-e2b1-4a1f-b0a9-c15dd466153b",
   "metadata": {},
   "outputs": [
    {
     "data": {
      "text/plain": [
       "0.11542537466092426"
      ]
     },
     "execution_count": 46,
     "metadata": {},
     "output_type": "execute_result"
    }
   ],
   "source": [
    "0.25*np.mean(year_yield_means)"
   ]
  },
  {
   "cell_type": "code",
   "execution_count": 40,
   "id": "3773c0ef-2052-4e90-91ba-7f54a44f9e44",
   "metadata": {},
   "outputs": [
    {
     "data": {
      "text/plain": [
       "0.010750000000000001"
      ]
     },
     "execution_count": 40,
     "metadata": {},
     "output_type": "execute_result"
    }
   ],
   "source": [
    "0.129/12"
   ]
  },
  {
   "cell_type": "code",
   "execution_count": 47,
   "id": "6f2c7966-1c31-4b26-9081-1bef8082cc9e",
   "metadata": {},
   "outputs": [
    {
     "data": {
      "text/plain": [
       "0.009618781221743686"
      ]
     },
     "execution_count": 47,
     "metadata": {},
     "output_type": "execute_result"
    }
   ],
   "source": [
    "0.25*np.mean(month_yield_means)"
   ]
  },
  {
   "cell_type": "code",
   "execution_count": null,
   "id": "b3d4a354-3f50-4122-b4db-77ea1a66a4fa",
   "metadata": {},
   "outputs": [],
   "source": [
    "0.025, 0.3"
   ]
  }
 ],
 "metadata": {
  "kernelspec": {
   "display_name": "Python 3 (ipykernel)",
   "language": "python",
   "name": "python3"
  },
  "language_info": {
   "codemirror_mode": {
    "name": "ipython",
    "version": 3
   },
   "file_extension": ".py",
   "mimetype": "text/x-python",
   "name": "python",
   "nbconvert_exporter": "python",
   "pygments_lexer": "ipython3",
   "version": "3.9.12"
  }
 },
 "nbformat": 4,
 "nbformat_minor": 5
}
