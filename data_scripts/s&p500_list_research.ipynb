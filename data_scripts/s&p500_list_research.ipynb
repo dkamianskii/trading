{
 "cells": [
  {
   "cell_type": "code",
   "execution_count": 1,
   "id": "2648c1d7-613d-4028-b4bc-400a490531bb",
   "metadata": {},
   "outputs": [],
   "source": [
    "import requests\n",
    "from bs4 import BeautifulSoup\n",
    "import pandas as pd"
   ]
  },
  {
   "cell_type": "code",
   "execution_count": 18,
   "id": "1ccf736c-38e0-4836-9dee-de8aceb895ca",
   "metadata": {},
   "outputs": [],
   "source": [
    "import seaborn as sns"
   ]
  },
  {
   "cell_type": "code",
   "execution_count": 36,
   "id": "1ef6fb7c-1944-450c-8efb-e6efda9bc95b",
   "metadata": {},
   "outputs": [],
   "source": [
    "import re"
   ]
  },
  {
   "cell_type": "code",
   "execution_count": 39,
   "id": "f0be8331-4b09-4004-9fab-152cd1a24a4f",
   "metadata": {},
   "outputs": [],
   "source": [
    "r = requests.get(\"https://en.wikipedia.org/wiki/List_of_S%26P_500_companies\")\n",
    "soup = BeautifulSoup(r.text, 'html.parser')\n",
    "indiatable = soup.find('table', {'class': \"wikitable\"})\n",
    "df = pd.read_html(str(indiatable))\n",
    "df = pd.DataFrame(df[0])"
   ]
  },
  {
   "cell_type": "markdown",
   "id": "0eb162f3-c44d-4ef0-8e51-305e727a4324",
   "metadata": {},
   "source": [
    "Distribution by sector"
   ]
  },
  {
   "cell_type": "code",
   "execution_count": 4,
   "id": "4952facd-9753-43df-b166-7516105e5688",
   "metadata": {},
   "outputs": [
    {
     "data": {
      "text/plain": [
       "GICS Sector\n",
       "Communication Services    22\n",
       "Consumer Discretionary    53\n",
       "Consumer Staples          38\n",
       "Energy                    23\n",
       "Financials                71\n",
       "Health Care               64\n",
       "Industrials               78\n",
       "Information Technology    65\n",
       "Materials                 28\n",
       "Real Estate               31\n",
       "Utilities                 30\n",
       "Name: Symbol, dtype: int64"
      ]
     },
     "execution_count": 4,
     "metadata": {},
     "output_type": "execute_result"
    }
   ],
   "source": [
    "df.groupby(\"GICS Sector\").count()[\"Symbol\"]"
   ]
  },
  {
   "cell_type": "code",
   "execution_count": 58,
   "id": "049dd22c-0137-4e7d-98a0-7c3ab68818a4",
   "metadata": {},
   "outputs": [],
   "source": [
    "selected_sectors = [\"Energy\", \"Financials\", \"Industrials\", \"Information Technology\"]"
   ]
  },
  {
   "cell_type": "code",
   "execution_count": 62,
   "id": "4f568fc7-ce2b-43c9-b45f-4b1fbaf2ad10",
   "metadata": {},
   "outputs": [],
   "source": [
    "t = df[\"GICS Sector\"] == selected_sectors[0]\n",
    "for s in selected_sectors[1:]:\n",
    "    t = t | (df[\"GICS Sector\"] == s)"
   ]
  },
  {
   "cell_type": "code",
   "execution_count": 65,
   "id": "87dca520-abfb-44d2-b3ca-d68c4904ba95",
   "metadata": {},
   "outputs": [],
   "source": [
    "df = df[t]"
   ]
  },
  {
   "cell_type": "code",
   "execution_count": 66,
   "id": "c5ff674a-3ed7-4c99-a32f-bdcc5e973f04",
   "metadata": {},
   "outputs": [
    {
     "data": {
      "text/plain": [
       "<seaborn.axisgrid.FacetGrid at 0x1a17bac38b0>"
      ]
     },
     "execution_count": 66,
     "metadata": {},
     "output_type": "execute_result"
    },
    {
     "data": {
      "image/png": "[encoded data removed]",
      "text/plain": [
       "<Figure size 360x360 with 1 Axes>"
      ]
     },
     "metadata": {
      "needs_background": "light"
     },
     "output_type": "display_data"
    }
   ],
   "source": [
    "sns.displot(pd.DatetimeIndex(df['Date added']).year, binwidth=1)"
   ]
  },
  {
   "cell_type": "code",
   "execution_count": 41,
   "id": "0e6b4a27-1af6-4606-880b-09bc42c06e6b",
   "metadata": {},
   "outputs": [],
   "source": [
    "df[\"year added\"] = pd.DatetimeIndex(df['Date added']).year"
   ]
  },
  {
   "cell_type": "code",
   "execution_count": 67,
   "id": "b1e2eb5d-22dd-42b1-a422-b8439887d7ce",
   "metadata": {
    "collapsed": true,
    "jupyter": {
     "outputs_hidden": true
    },
    "tags": []
   },
   "outputs": [
    {
     "name": "stderr",
     "output_type": "stream",
     "text": [
      "C:\\Users\\Dell\\AppData\\Local\\Temp\\ipykernel_13396\\1314043466.py:1: SettingWithCopyWarning: \n",
      "A value is trying to be set on a copy of a slice from a DataFrame.\n",
      "Try using .loc[row_indexer,col_indexer] = value instead\n",
      "\n",
      "See the caveats in the documentation: https://pandas.pydata.org/pandas-docs/stable/user_guide/indexing.html#returning-a-view-versus-a-copy\n",
      "  df[\"Founded\"] = df[\"Founded\"].apply(lambda x: re.split(' |/', x)[0]).astype(int)\n"
     ]
    }
   ],
   "source": [
    "df[\"Founded\"] = df[\"Founded\"].apply(lambda x: re.split(' |/', x)[0]).astype(int)"
   ]
  },
  {
   "cell_type": "code",
   "execution_count": 69,
   "id": "29efd70b-66a2-4800-bd38-0255260cd36e",
   "metadata": {},
   "outputs": [],
   "source": [
    "df = df[df[\"Founded\"] <= 2010]"
   ]
  },
  {
   "cell_type": "code",
   "execution_count": 70,
   "id": "3745e6a1-ba14-42fe-824e-146cabdc541a",
   "metadata": {},
   "outputs": [
    {
     "data": {
      "text/html": [
       "<div>\n",
       "<style scoped>\n",
       "    .dataframe tbody tr th:only-of-type {\n",
       "        vertical-align: middle;\n",
       "    }\n",
       "\n",
       "    .dataframe tbody tr th {\n",
       "        vertical-align: top;\n",
       "    }\n",
       "\n",
       "    .dataframe thead th {\n",
       "        text-align: right;\n",
       "    }\n",
       "</style>\n",
       "<table border=\"1\" class=\"dataframe\">\n",
       "  <thead>\n",
       "    <tr style=\"text-align: right;\">\n",
       "      <th></th>\n",
       "      <th>Symbol</th>\n",
       "      <th>Security</th>\n",
       "      <th>GICS Sector</th>\n",
       "      <th>GICS Sub-Industry</th>\n",
       "      <th>Headquarters Location</th>\n",
       "      <th>Date added</th>\n",
       "      <th>CIK</th>\n",
       "      <th>Founded</th>\n",
       "      <th>year added</th>\n",
       "    </tr>\n",
       "  </thead>\n",
       "  <tbody>\n",
       "    <tr>\n",
       "      <th>0</th>\n",
       "      <td>MMM</td>\n",
       "      <td>3M</td>\n",
       "      <td>Industrials</td>\n",
       "      <td>Industrial Conglomerates</td>\n",
       "      <td>Saint Paul, Minnesota</td>\n",
       "      <td>1957-03-04</td>\n",
       "      <td>66740</td>\n",
       "      <td>1902</td>\n",
       "      <td>1957</td>\n",
       "    </tr>\n",
       "    <tr>\n",
       "      <th>1</th>\n",
       "      <td>AOS</td>\n",
       "      <td>A. O. Smith</td>\n",
       "      <td>Industrials</td>\n",
       "      <td>Building Products</td>\n",
       "      <td>Milwaukee, Wisconsin</td>\n",
       "      <td>2017-07-26</td>\n",
       "      <td>91142</td>\n",
       "      <td>1916</td>\n",
       "      <td>2017</td>\n",
       "    </tr>\n",
       "    <tr>\n",
       "      <th>4</th>\n",
       "      <td>ACN</td>\n",
       "      <td>Accenture</td>\n",
       "      <td>Information Technology</td>\n",
       "      <td>IT Consulting &amp; Other Services</td>\n",
       "      <td>Dublin, Ireland</td>\n",
       "      <td>2011-07-06</td>\n",
       "      <td>1467373</td>\n",
       "      <td>1989</td>\n",
       "      <td>2011</td>\n",
       "    </tr>\n",
       "    <tr>\n",
       "      <th>5</th>\n",
       "      <td>ADBE</td>\n",
       "      <td>Adobe Inc.</td>\n",
       "      <td>Information Technology</td>\n",
       "      <td>Application Software</td>\n",
       "      <td>San Jose, California</td>\n",
       "      <td>1997-05-05</td>\n",
       "      <td>796343</td>\n",
       "      <td>1982</td>\n",
       "      <td>1997</td>\n",
       "    </tr>\n",
       "    <tr>\n",
       "      <th>6</th>\n",
       "      <td>AMD</td>\n",
       "      <td>Advanced Micro Devices</td>\n",
       "      <td>Information Technology</td>\n",
       "      <td>Semiconductors</td>\n",
       "      <td>Santa Clara, California</td>\n",
       "      <td>2017-03-20</td>\n",
       "      <td>2488</td>\n",
       "      <td>1969</td>\n",
       "      <td>2017</td>\n",
       "    </tr>\n",
       "    <tr>\n",
       "      <th>...</th>\n",
       "      <td>...</td>\n",
       "      <td>...</td>\n",
       "      <td>...</td>\n",
       "      <td>...</td>\n",
       "      <td>...</td>\n",
       "      <td>...</td>\n",
       "      <td>...</td>\n",
       "      <td>...</td>\n",
       "      <td>...</td>\n",
       "    </tr>\n",
       "    <tr>\n",
       "      <th>487</th>\n",
       "      <td>WFC</td>\n",
       "      <td>Wells Fargo</td>\n",
       "      <td>Financials</td>\n",
       "      <td>Diversified Banks</td>\n",
       "      <td>San Francisco, California</td>\n",
       "      <td>1976-06-30</td>\n",
       "      <td>72971</td>\n",
       "      <td>1852</td>\n",
       "      <td>1976</td>\n",
       "    </tr>\n",
       "    <tr>\n",
       "      <th>490</th>\n",
       "      <td>WDC</td>\n",
       "      <td>Western Digital</td>\n",
       "      <td>Information Technology</td>\n",
       "      <td>Technology Hardware, Storage &amp; Peripherals</td>\n",
       "      <td>San Jose, California</td>\n",
       "      <td>2009-07-01</td>\n",
       "      <td>106040</td>\n",
       "      <td>1970</td>\n",
       "      <td>2009</td>\n",
       "    </tr>\n",
       "    <tr>\n",
       "      <th>493</th>\n",
       "      <td>WMB</td>\n",
       "      <td>Williams Companies</td>\n",
       "      <td>Energy</td>\n",
       "      <td>Oil &amp; Gas Storage &amp; Transportation</td>\n",
       "      <td>Tulsa, Oklahoma</td>\n",
       "      <td>1975-03-31</td>\n",
       "      <td>107263</td>\n",
       "      <td>1908</td>\n",
       "      <td>1975</td>\n",
       "    </tr>\n",
       "    <tr>\n",
       "      <th>495</th>\n",
       "      <td>GWW</td>\n",
       "      <td>W. W. Grainger</td>\n",
       "      <td>Industrials</td>\n",
       "      <td>Industrial Machinery &amp; Supplies &amp; Components</td>\n",
       "      <td>Lake Forest, Illinois</td>\n",
       "      <td>1981-06-30</td>\n",
       "      <td>277135</td>\n",
       "      <td>1927</td>\n",
       "      <td>1981</td>\n",
       "    </tr>\n",
       "    <tr>\n",
       "      <th>500</th>\n",
       "      <td>ZBRA</td>\n",
       "      <td>Zebra Technologies</td>\n",
       "      <td>Information Technology</td>\n",
       "      <td>Electronic Equipment &amp; Instruments</td>\n",
       "      <td>Lincolnshire, Illinois</td>\n",
       "      <td>2019-12-23</td>\n",
       "      <td>877212</td>\n",
       "      <td>1969</td>\n",
       "      <td>2019</td>\n",
       "    </tr>\n",
       "  </tbody>\n",
       "</table>\n",
       "<p>223 rows × 9 columns</p>\n",
       "</div>"
      ],
      "text/plain": [
       "    Symbol                Security             GICS Sector  \\\n",
       "0      MMM                      3M             Industrials   \n",
       "1      AOS             A. O. Smith             Industrials   \n",
       "4      ACN               Accenture  Information Technology   \n",
       "5     ADBE              Adobe Inc.  Information Technology   \n",
       "6      AMD  Advanced Micro Devices  Information Technology   \n",
       "..     ...                     ...                     ...   \n",
       "487    WFC             Wells Fargo              Financials   \n",
       "490    WDC         Western Digital  Information Technology   \n",
       "493    WMB      Williams Companies                  Energy   \n",
       "495    GWW          W. W. Grainger             Industrials   \n",
       "500   ZBRA      Zebra Technologies  Information Technology   \n",
       "\n",
       "                                GICS Sub-Industry      Headquarters Location  \\\n",
       "0                        Industrial Conglomerates      Saint Paul, Minnesota   \n",
       "1                               Building Products       Milwaukee, Wisconsin   \n",
       "4                  IT Consulting & Other Services            Dublin, Ireland   \n",
       "5                            Application Software       San Jose, California   \n",
       "6                                  Semiconductors    Santa Clara, California   \n",
       "..                                            ...                        ...   \n",
       "487                             Diversified Banks  San Francisco, California   \n",
       "490    Technology Hardware, Storage & Peripherals       San Jose, California   \n",
       "493            Oil & Gas Storage & Transportation            Tulsa, Oklahoma   \n",
       "495  Industrial Machinery & Supplies & Components      Lake Forest, Illinois   \n",
       "500            Electronic Equipment & Instruments     Lincolnshire, Illinois   \n",
       "\n",
       "     Date added      CIK  Founded  year added  \n",
       "0    1957-03-04    66740     1902        1957  \n",
       "1    2017-07-26    91142     1916        2017  \n",
       "4    2011-07-06  1467373     1989        2011  \n",
       "5    1997-05-05   796343     1982        1997  \n",
       "6    2017-03-20     2488     1969        2017  \n",
       "..          ...      ...      ...         ...  \n",
       "487  1976-06-30    72971     1852        1976  \n",
       "490  2009-07-01   106040     1970        2009  \n",
       "493  1975-03-31   107263     1908        1975  \n",
       "495  1981-06-30   277135     1927        1981  \n",
       "500  2019-12-23   877212     1969        2019  \n",
       "\n",
       "[223 rows x 9 columns]"
      ]
     },
     "execution_count": 70,
     "metadata": {},
     "output_type": "execute_result"
    }
   ],
   "source": [
    "df"
   ]
  },
  {
   "cell_type": "code",
   "execution_count": null,
   "id": "3111cd01-58cf-4cb4-9ba1-2cdaefd734f8",
   "metadata": {},
   "outputs": [],
   "source": []
  }
 ],
 "metadata": {
  "kernelspec": {
   "display_name": "Python 3 (ipykernel)",
   "language": "python",
   "name": "python3"
  },
  "language_info": {
   "codemirror_mode": {
    "name": "ipython",
    "version": 3
   },
   "file_extension": ".py",
   "mimetype": "text/x-python",
   "name": "python",
   "nbconvert_exporter": "python",
   "pygments_lexer": "ipython3",
   "version": "3.9.12"
  }
 },
 "nbformat": 4,
 "nbformat_minor": 5
}
