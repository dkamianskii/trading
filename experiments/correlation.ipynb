{
 "cells": [
  {
   "cell_type": "markdown",
   "id": "e55d1b03-0e7a-4c06-966b-f6fe04370dad",
   "metadata": {},
   "source": [
    "Correlation between different stocks, sector mean, s&p500, nasdaq"
   ]
  },
  {
   "cell_type": "code",
   "execution_count": 2,
   "id": "ba038a1e-b588-4821-9cab-7d957146a733",
   "metadata": {},
   "outputs": [],
   "source": [
    "import pandas as pd\n",
    "import numpy as np\n",
    "import os\n",
    "from os import path"
   ]
  },
  {
   "cell_type": "code",
   "execution_count": 3,
   "id": "b908dd2b-5222-4eb2-b89e-6cb92ba293d6",
   "metadata": {},
   "outputs": [],
   "source": [
    "symbols = pd.read_csv(\"D:\\Trading\\sp500_symbols_list.csv\")"
   ]
  },
  {
   "cell_type": "code",
   "execution_count": 4,
   "id": "f61eb0a2-035c-4d6c-a782-9ef95b91ba1d",
   "metadata": {},
   "outputs": [],
   "source": [
    "tickers_path = \"D:\\\\Trading\\\\raw_data\\\\tickers\""
   ]
  },
  {
   "cell_type": "code",
   "execution_count": 5,
   "id": "95e8fccd-40cc-4714-81ee-a50d5f7e121a",
   "metadata": {},
   "outputs": [],
   "source": [
    "tickers_dfs = {ticker: pd.read_csv(path.join(tickers_path, f\"{ticker}.csv\"), parse_dates=True, index_col=\"Date\") for ticker in symbols['Symbol']}"
   ]
  },
  {
   "cell_type": "code",
   "execution_count": 6,
   "id": "640afbb2-3cfe-42ae-aea3-74977583684e",
   "metadata": {},
   "outputs": [],
   "source": [
    "s_p_df = pd.read_csv(path.join(\"D:\\\\Trading\\\\raw_data\\\\special\", \"SP500.csv\"), parse_dates=True, index_col=\"Date\")\n",
    "nsdq_df = pd.read_csv(path.join(\"D:\\\\Trading\\\\raw_data\\\\special\", \"NSDQ.csv\"), parse_dates=True, index_col=\"Date\")"
   ]
  },
  {
   "cell_type": "markdown",
   "id": "debedebb-a891-4fd7-853e-ca7fa29302ec",
   "metadata": {},
   "source": [
    "## Autocorrelation"
   ]
  },
  {
   "cell_type": "code",
   "execution_count": 12,
   "id": "c72920d9-49d8-41a0-87c4-29d6c49d10d9",
   "metadata": {},
   "outputs": [],
   "source": [
    "autocorrs = {i: np.array([tickers_dfs[ticker][\"Close\"].diff().autocorr(lag=i) for ticker in symbols['Symbol']]) for i in range(1, 6)}"
   ]
  },
  {
   "cell_type": "code",
   "execution_count": 13,
   "id": "f3fc9c6e-74b7-484d-b1b1-6b243ddd819d",
   "metadata": {},
   "outputs": [
    {
     "name": "stdout",
     "output_type": "stream",
     "text": [
      "Autocorr lag: 1\n",
      "Median: -0.029069693898538057, Mean: -0.032104408449437155, Max: 0.12364255974715051, Min: -0.22241851581963\n",
      "Autocorr lag: 2\n",
      "Median: 0.004320297397610031, Mean: 0.005048153943142921, Max: 0.07843800207562823, Min: -0.12259684762300502\n",
      "Autocorr lag: 3\n",
      "Median: -0.011848383311203076, Mean: -0.01274977626596836, Max: 0.08162981965074169, Min: -0.24756414903070134\n",
      "Autocorr lag: 4\n",
      "Median: -0.018303694941026682, Mean: -0.018532690289495838, Max: 0.21267490090354751, Min: -0.08779306148885804\n",
      "Autocorr lag: 5\n",
      "Median: 0.01145428374223368, Mean: 0.011976409881366218, Max: 0.1213809601689234, Min: -0.09732817112007146\n"
     ]
    }
   ],
   "source": [
    "for i in range(1, 6):\n",
    "    print(f\"Autocorr lag: {i}\")\n",
    "    print(f\"Median: {np.median(autocorrs[i])}, Mean: {np.mean(autocorrs[i])}, Max: {np.max(autocorrs[i])}, Min: {np.min(autocorrs[i])}\")"
   ]
  },
  {
   "cell_type": "code",
   "execution_count": 18,
   "id": "eba00de0-f41a-4db6-ae8c-689051c2daec",
   "metadata": {},
   "outputs": [
    {
     "data": {
      "text/plain": [
       "-0.05855697050585328"
      ]
     },
     "execution_count": 18,
     "metadata": {},
     "output_type": "execute_result"
    }
   ],
   "source": [
    "np.sign(s_p_df[\"Close\"].pct_change().iloc[1:]).autocorr()"
   ]
  },
  {
   "cell_type": "code",
   "execution_count": 28,
   "id": "8309eef9-ef2e-42da-9fe7-54b65440d9a2",
   "metadata": {},
   "outputs": [],
   "source": [
    "def one_sign_chains(pct_change):\n",
    "    signs = np.sign(pct_change)\n",
    "    sign_chain = False\n",
    "    positive_chains = []\n",
    "    negative_chains = []\n",
    "    chains_len = 0\n",
    "    for i in range(2, signs.shape[0]):\n",
    "        if sign_chain:\n",
    "            if signs[i] != signs[i - 1]:\n",
    "                if signs[i - 1] > 0:\n",
    "                    positive_chains.append(chains_len)\n",
    "                else:\n",
    "                    negative_chains.append(chains_len)\n",
    "                sign_chain = False\n",
    "                chains_len = 0\n",
    "            else:\n",
    "                chains_len += 1\n",
    "        else:\n",
    "            if signs[i] == signs[i - 1] and signs[i] == signs[i - 2]:\n",
    "                sign_chain = True\n",
    "                chains_len = 3\n",
    "    return np.array(positive_chains), np.array(negative_chains)"
   ]
  },
  {
   "cell_type": "code",
   "execution_count": 35,
   "id": "32ef20c3-0a6a-4806-a5ae-6281501049fd",
   "metadata": {},
   "outputs": [],
   "source": [
    "pos_lens, neg_lens = [], []\n",
    "for ticker in symbols['Symbol']:\n",
    "    df = tickers_dfs[ticker]\n",
    "    pos, neg = one_sign_chains(df[\"Close\"].pct_change().iloc[1:])\n",
    "    pos_lens.append(pos)\n",
    "    neg_lens.append(neg)"
   ]
  },
  {
   "cell_type": "code",
   "execution_count": 47,
   "id": "5ad303ed-4e8a-418e-86cc-3c3462a92e35",
   "metadata": {},
   "outputs": [
    {
     "data": {
      "text/plain": [
       "0.5252525252525253"
      ]
     },
     "execution_count": 47,
     "metadata": {},
     "output_type": "execute_result"
    }
   ],
   "source": [
    "t = pos_lens[0]\n",
    "(t == 3).mean()"
   ]
  },
  {
   "cell_type": "code",
   "execution_count": 40,
   "id": "174b2818-8b1e-4b5f-8eb2-dac1f8cc278a",
   "metadata": {},
   "outputs": [
    {
     "name": "stdout",
     "output_type": "stream",
     "text": [
      "Positive median: 4.0\n",
      "Positive 80%: 5.0\n",
      "Mean Positive % of all time: 0.26106802568190307\n"
     ]
    }
   ],
   "source": [
    "print(f\"Positive median: {np.median([np.median(pos) for pos in pos_lens])}\")\n",
    "print(f\"Positive 80%: {np.median([np.quantile(pos, 0.8) for pos in pos_lens])}\")\n",
    "print(f\"Mean Positive % of all time: {np.mean([pos_lens[i].sum() / tickers_dfs[symbols['Symbol'].iloc[i]].shape[0] for i in range(symbols.shape[0])])}\")"
   ]
  },
  {
   "cell_type": "code",
   "execution_count": 102,
   "id": "35a1c6ce-356a-4ef2-938d-ef3631af3f63",
   "metadata": {},
   "outputs": [
    {
     "name": "stdout",
     "output_type": "stream",
     "text": [
      "Positive prob of 3: 0.7493569014885499\n"
     ]
    }
   ],
   "source": [
    "print(f\"Positive prob of 3: {np.median([(pos <= 4).mean() for pos in pos_lens])}\")"
   ]
  },
  {
   "cell_type": "code",
   "execution_count": 41,
   "id": "fd17ce5f-09f6-4742-8b0e-dfd6785fef46",
   "metadata": {},
   "outputs": [
    {
     "name": "stdout",
     "output_type": "stream",
     "text": [
      "Negative median: 3.0\n",
      "Negative 80%: 5.0\n",
      "Mean Negative % of all time: 0.213096571160183\n"
     ]
    }
   ],
   "source": [
    "print(f\"Negative median: {np.median([np.median(pos) for pos in neg_lens])}\")\n",
    "print(f\"Negative 80%: {np.median([np.quantile(pos, 0.8) for pos in neg_lens])}\")\n",
    "print(f\"Mean Negative % of all time: {np.mean([neg_lens[i].sum() / tickers_dfs[symbols['Symbol'].iloc[i]].shape[0] for i in range(symbols.shape[0])])}\")"
   ]
  },
  {
   "cell_type": "code",
   "execution_count": 100,
   "id": "28ca421a-ae20-470f-94bd-175d78d057d6",
   "metadata": {},
   "outputs": [
    {
     "name": "stdout",
     "output_type": "stream",
     "text": [
      "Negative prob of 3: 0.7857405884446844\n"
     ]
    }
   ],
   "source": [
    "print(f\"Negative prob of 3: {np.median([(pos <= 4).mean() for pos in neg_lens])}\")"
   ]
  },
  {
   "cell_type": "markdown",
   "id": "b181ba1a-cf13-46e6-b875-a9dc1242af41",
   "metadata": {},
   "source": [
    "### Correlation between stocks and its sectoral mean"
   ]
  },
  {
   "cell_type": "markdown",
   "id": "df9dff8a-26e5-4574-8b81-8c0b7a66ef5d",
   "metadata": {},
   "source": [
    "Всего рассматриваемых секторов"
   ]
  },
  {
   "cell_type": "code",
   "execution_count": 53,
   "id": "cb6f4cc9-1a72-4f0e-8eb6-bd7d8a75a319",
   "metadata": {},
   "outputs": [
    {
     "data": {
      "text/plain": [
       "array(['Industrials', 'Information Technology', 'Financials', 'Energy'],\n",
       "      dtype=object)"
      ]
     },
     "execution_count": 53,
     "metadata": {},
     "output_type": "execute_result"
    }
   ],
   "source": [
    "symbols[\"GICS Sector\"].unique()"
   ]
  },
  {
   "cell_type": "markdown",
   "id": "2d65fb55-37f4-45da-befc-a4fb87bc643d",
   "metadata": {
    "tags": []
   },
   "source": [
    "#### Industrials"
   ]
  },
  {
   "cell_type": "code",
   "execution_count": 54,
   "id": "ccfd4e36-4ab9-407a-888a-a3bb12f1d050",
   "metadata": {},
   "outputs": [
    {
     "name": "stdout",
     "output_type": "stream",
     "text": [
      "Stocks in Industrials: 71\n"
     ]
    }
   ],
   "source": [
    "sector = \"Industrials\"\n",
    "tickets_in_sector = symbols[symbols[\"GICS Sector\"] == sector]\n",
    "print(f\"Stocks in {sector}: {tickets_in_sector.shape[0]}\")"
   ]
  },
  {
   "cell_type": "code",
   "execution_count": 55,
   "id": "a406c47e-9a83-4ea1-9a18-48bbaf1d8ef2",
   "metadata": {},
   "outputs": [],
   "source": [
    "sector_tickers_merged_closes = pd.DataFrame(index=tickers_dfs[tickets_in_sector[\"Symbol\"].iloc[0]].index)"
   ]
  },
  {
   "cell_type": "markdown",
   "id": "5f524f2d-cb3a-41bd-b6a9-9c37ad7c7639",
   "metadata": {},
   "source": [
    "Абсолютные изменения"
   ]
  },
  {
   "cell_type": "code",
   "execution_count": 56,
   "id": "2d82636a-d7e6-4909-ab62-e24e983f3bf3",
   "metadata": {},
   "outputs": [],
   "source": [
    "for symbol in tickets_in_sector[\"Symbol\"]:\n",
    "    sector_tickers_merged_closes[symbol] = tickers_dfs[symbol][\"Close\"].diff()\n",
    "sector_tickers_merged_closes = sector_tickers_merged_closes.iloc[1:]"
   ]
  },
  {
   "cell_type": "code",
   "execution_count": 57,
   "id": "32476ee2-d001-4d13-8be4-7af60b116159",
   "metadata": {},
   "outputs": [],
   "source": [
    "sector_abs_mean = sector_tickers_merged_closes.mean(axis=1)"
   ]
  },
  {
   "cell_type": "code",
   "execution_count": 58,
   "id": "37607fb9-54f7-4eda-9bea-45e9b30a9fa3",
   "metadata": {},
   "outputs": [],
   "source": [
    "sector_tickers_merged_closes[\"Sector_Mean\"] = sector_abs_mean"
   ]
  },
  {
   "cell_type": "code",
   "execution_count": 59,
   "id": "9c0fbc6c-ab8a-40e9-951b-2f17c9c72e8f",
   "metadata": {},
   "outputs": [],
   "source": [
    "for i in range(1, 6):\n",
    "    sector_tickers_merged_closes[f\"Sector_Mean_s{i}\"] = sector_tickers_merged_closes[\"Sector_Mean\"].shift(i)"
   ]
  },
  {
   "cell_type": "code",
   "execution_count": 61,
   "id": "0e0e892a-61bf-4e22-8515-f9bdb8b4a5aa",
   "metadata": {},
   "outputs": [],
   "source": [
    "sector_tickers_merged_closes.dropna(inplace=True)"
   ]
  },
  {
   "cell_type": "code",
   "execution_count": 65,
   "id": "1b5b3507-8983-488e-9961-4d9eab317705",
   "metadata": {},
   "outputs": [
    {
     "data": {
      "text/html": [
       "<div>\n",
       "<style scoped>\n",
       "    .dataframe tbody tr th:only-of-type {\n",
       "        vertical-align: middle;\n",
       "    }\n",
       "\n",
       "    .dataframe tbody tr th {\n",
       "        vertical-align: top;\n",
       "    }\n",
       "\n",
       "    .dataframe thead th {\n",
       "        text-align: right;\n",
       "    }\n",
       "</style>\n",
       "<table border=\"1\" class=\"dataframe\">\n",
       "  <thead>\n",
       "    <tr style=\"text-align: right;\">\n",
       "      <th></th>\n",
       "      <th>Sector_Mean</th>\n",
       "      <th>Sector_Mean_s1</th>\n",
       "      <th>Sector_Mean_s2</th>\n",
       "      <th>Sector_Mean_s3</th>\n",
       "      <th>Sector_Mean_s4</th>\n",
       "      <th>Sector_Mean_s5</th>\n",
       "    </tr>\n",
       "  </thead>\n",
       "  <tbody>\n",
       "    <tr>\n",
       "      <th>count</th>\n",
       "      <td>71.000000</td>\n",
       "      <td>71.000000</td>\n",
       "      <td>71.000000</td>\n",
       "      <td>71.000000</td>\n",
       "      <td>71.000000</td>\n",
       "      <td>71.000000</td>\n",
       "    </tr>\n",
       "    <tr>\n",
       "      <th>mean</th>\n",
       "      <td>0.672026</td>\n",
       "      <td>-0.027329</td>\n",
       "      <td>0.022245</td>\n",
       "      <td>-0.010073</td>\n",
       "      <td>-0.043216</td>\n",
       "      <td>0.040198</td>\n",
       "    </tr>\n",
       "    <tr>\n",
       "      <th>std</th>\n",
       "      <td>0.100164</td>\n",
       "      <td>0.030380</td>\n",
       "      <td>0.031857</td>\n",
       "      <td>0.028661</td>\n",
       "      <td>0.027197</td>\n",
       "      <td>0.028200</td>\n",
       "    </tr>\n",
       "    <tr>\n",
       "      <th>min</th>\n",
       "      <td>0.426425</td>\n",
       "      <td>-0.099190</td>\n",
       "      <td>-0.041568</td>\n",
       "      <td>-0.070702</td>\n",
       "      <td>-0.102902</td>\n",
       "      <td>-0.024410</td>\n",
       "    </tr>\n",
       "    <tr>\n",
       "      <th>25%</th>\n",
       "      <td>0.615028</td>\n",
       "      <td>-0.043889</td>\n",
       "      <td>-0.000933</td>\n",
       "      <td>-0.028793</td>\n",
       "      <td>-0.061857</td>\n",
       "      <td>0.022065</td>\n",
       "    </tr>\n",
       "    <tr>\n",
       "      <th>50%</th>\n",
       "      <td>0.694471</td>\n",
       "      <td>-0.031565</td>\n",
       "      <td>0.022670</td>\n",
       "      <td>-0.009450</td>\n",
       "      <td>-0.047312</td>\n",
       "      <td>0.040928</td>\n",
       "    </tr>\n",
       "    <tr>\n",
       "      <th>75%</th>\n",
       "      <td>0.739295</td>\n",
       "      <td>-0.013653</td>\n",
       "      <td>0.042534</td>\n",
       "      <td>0.012706</td>\n",
       "      <td>-0.025191</td>\n",
       "      <td>0.056434</td>\n",
       "    </tr>\n",
       "    <tr>\n",
       "      <th>max</th>\n",
       "      <td>0.855329</td>\n",
       "      <td>0.048455</td>\n",
       "      <td>0.097796</td>\n",
       "      <td>0.062826</td>\n",
       "      <td>0.043564</td>\n",
       "      <td>0.112417</td>\n",
       "    </tr>\n",
       "  </tbody>\n",
       "</table>\n",
       "</div>"
      ],
      "text/plain": [
       "       Sector_Mean  Sector_Mean_s1  Sector_Mean_s2  Sector_Mean_s3  \\\n",
       "count    71.000000       71.000000       71.000000       71.000000   \n",
       "mean      0.672026       -0.027329        0.022245       -0.010073   \n",
       "std       0.100164        0.030380        0.031857        0.028661   \n",
       "min       0.426425       -0.099190       -0.041568       -0.070702   \n",
       "25%       0.615028       -0.043889       -0.000933       -0.028793   \n",
       "50%       0.694471       -0.031565        0.022670       -0.009450   \n",
       "75%       0.739295       -0.013653        0.042534        0.012706   \n",
       "max       0.855329        0.048455        0.097796        0.062826   \n",
       "\n",
       "       Sector_Mean_s4  Sector_Mean_s5  \n",
       "count       71.000000       71.000000  \n",
       "mean        -0.043216        0.040198  \n",
       "std          0.027197        0.028200  \n",
       "min         -0.102902       -0.024410  \n",
       "25%         -0.061857        0.022065  \n",
       "50%         -0.047312        0.040928  \n",
       "75%         -0.025191        0.056434  \n",
       "max          0.043564        0.112417  "
      ]
     },
     "execution_count": 65,
     "metadata": {},
     "output_type": "execute_result"
    }
   ],
   "source": [
    "sector_tickers_merged_closes.corr()[[\"Sector_Mean\", \"Sector_Mean_s1\", \"Sector_Mean_s2\", \"Sector_Mean_s3\", \"Sector_Mean_s4\", \"Sector_Mean_s5\"]].iloc[:-6].describe()"
   ]
  },
  {
   "cell_type": "markdown",
   "id": "9265e014-3227-4a6f-9549-bbcedfa7aa55",
   "metadata": {},
   "source": [
    "Относительные изменения"
   ]
  },
  {
   "cell_type": "code",
   "execution_count": 69,
   "id": "31421b28-3fcb-4eae-8498-4f2342ddc3d5",
   "metadata": {},
   "outputs": [],
   "source": [
    "sector_tickers_merged_closes = pd.DataFrame(index=tickers_dfs[tickets_in_sector[\"Symbol\"].iloc[0]].index)"
   ]
  },
  {
   "cell_type": "code",
   "execution_count": 70,
   "id": "fd927239-7da8-454e-8338-0d89b4acb6c4",
   "metadata": {},
   "outputs": [],
   "source": [
    "for symbol in tickets_in_sector[\"Symbol\"]:\n",
    "    sector_tickers_merged_closes[symbol] = tickers_dfs[symbol][\"Close\"].pct_change()\n",
    "sector_tickers_merged_closes = sector_tickers_merged_closes.iloc[1:]"
   ]
  },
  {
   "cell_type": "code",
   "execution_count": 71,
   "id": "45abb7d9-af70-4547-8ea2-1698913774e1",
   "metadata": {},
   "outputs": [],
   "source": [
    "sector_rel_mean = sector_tickers_merged_closes.mean(axis=1)"
   ]
  },
  {
   "cell_type": "code",
   "execution_count": 72,
   "id": "40e481c0-870e-4a93-84c2-a96dcb8d634a",
   "metadata": {},
   "outputs": [],
   "source": [
    "sector_tickers_merged_closes[\"Sector_Mean\"] = sector_rel_mean"
   ]
  },
  {
   "cell_type": "code",
   "execution_count": 73,
   "id": "3efe1e38-774d-4380-b244-d715dc63a80b",
   "metadata": {},
   "outputs": [],
   "source": [
    "for i in range(1, 6):\n",
    "    sector_tickers_merged_closes[f\"Sector_Mean_s{i}\"] = sector_tickers_merged_closes[\"Sector_Mean\"].shift(i)"
   ]
  },
  {
   "cell_type": "code",
   "execution_count": 74,
   "id": "3f2be4fe-81f8-4045-90f0-1f14b7d4599b",
   "metadata": {},
   "outputs": [],
   "source": [
    "sector_tickers_merged_closes.dropna(inplace=True)"
   ]
  },
  {
   "cell_type": "code",
   "execution_count": 75,
   "id": "79da741b-3136-4387-af1e-a71cb51c2be2",
   "metadata": {},
   "outputs": [
    {
     "data": {
      "text/html": [
       "<div>\n",
       "<style scoped>\n",
       "    .dataframe tbody tr th:only-of-type {\n",
       "        vertical-align: middle;\n",
       "    }\n",
       "\n",
       "    .dataframe tbody tr th {\n",
       "        vertical-align: top;\n",
       "    }\n",
       "\n",
       "    .dataframe thead th {\n",
       "        text-align: right;\n",
       "    }\n",
       "</style>\n",
       "<table border=\"1\" class=\"dataframe\">\n",
       "  <thead>\n",
       "    <tr style=\"text-align: right;\">\n",
       "      <th></th>\n",
       "      <th>Sector_Mean</th>\n",
       "      <th>Sector_Mean_s1</th>\n",
       "      <th>Sector_Mean_s2</th>\n",
       "      <th>Sector_Mean_s3</th>\n",
       "      <th>Sector_Mean_s4</th>\n",
       "      <th>Sector_Mean_s5</th>\n",
       "    </tr>\n",
       "  </thead>\n",
       "  <tbody>\n",
       "    <tr>\n",
       "      <th>count</th>\n",
       "      <td>71.000000</td>\n",
       "      <td>71.000000</td>\n",
       "      <td>71.000000</td>\n",
       "      <td>71.000000</td>\n",
       "      <td>71.000000</td>\n",
       "      <td>71.000000</td>\n",
       "    </tr>\n",
       "    <tr>\n",
       "      <th>mean</th>\n",
       "      <td>0.718476</td>\n",
       "      <td>-0.056331</td>\n",
       "      <td>0.060597</td>\n",
       "      <td>-0.029684</td>\n",
       "      <td>-0.064944</td>\n",
       "      <td>0.049984</td>\n",
       "    </tr>\n",
       "    <tr>\n",
       "      <th>std</th>\n",
       "      <td>0.099037</td>\n",
       "      <td>0.041232</td>\n",
       "      <td>0.041868</td>\n",
       "      <td>0.040400</td>\n",
       "      <td>0.036774</td>\n",
       "      <td>0.036225</td>\n",
       "    </tr>\n",
       "    <tr>\n",
       "      <th>min</th>\n",
       "      <td>0.459557</td>\n",
       "      <td>-0.158787</td>\n",
       "      <td>-0.025456</td>\n",
       "      <td>-0.131860</td>\n",
       "      <td>-0.155846</td>\n",
       "      <td>-0.065301</td>\n",
       "    </tr>\n",
       "    <tr>\n",
       "      <th>25%</th>\n",
       "      <td>0.669791</td>\n",
       "      <td>-0.076665</td>\n",
       "      <td>0.031175</td>\n",
       "      <td>-0.054847</td>\n",
       "      <td>-0.083931</td>\n",
       "      <td>0.032160</td>\n",
       "    </tr>\n",
       "    <tr>\n",
       "      <th>50%</th>\n",
       "      <td>0.737932</td>\n",
       "      <td>-0.056487</td>\n",
       "      <td>0.053781</td>\n",
       "      <td>-0.030372</td>\n",
       "      <td>-0.070851</td>\n",
       "      <td>0.048736</td>\n",
       "    </tr>\n",
       "    <tr>\n",
       "      <th>75%</th>\n",
       "      <td>0.784495</td>\n",
       "      <td>-0.037396</td>\n",
       "      <td>0.091398</td>\n",
       "      <td>-0.001269</td>\n",
       "      <td>-0.041070</td>\n",
       "      <td>0.068436</td>\n",
       "    </tr>\n",
       "    <tr>\n",
       "      <th>max</th>\n",
       "      <td>0.881381</td>\n",
       "      <td>0.068035</td>\n",
       "      <td>0.147736</td>\n",
       "      <td>0.094335</td>\n",
       "      <td>0.031321</td>\n",
       "      <td>0.143331</td>\n",
       "    </tr>\n",
       "  </tbody>\n",
       "</table>\n",
       "</div>"
      ],
      "text/plain": [
       "       Sector_Mean  Sector_Mean_s1  Sector_Mean_s2  Sector_Mean_s3  \\\n",
       "count    71.000000       71.000000       71.000000       71.000000   \n",
       "mean      0.718476       -0.056331        0.060597       -0.029684   \n",
       "std       0.099037        0.041232        0.041868        0.040400   \n",
       "min       0.459557       -0.158787       -0.025456       -0.131860   \n",
       "25%       0.669791       -0.076665        0.031175       -0.054847   \n",
       "50%       0.737932       -0.056487        0.053781       -0.030372   \n",
       "75%       0.784495       -0.037396        0.091398       -0.001269   \n",
       "max       0.881381        0.068035        0.147736        0.094335   \n",
       "\n",
       "       Sector_Mean_s4  Sector_Mean_s5  \n",
       "count       71.000000       71.000000  \n",
       "mean        -0.064944        0.049984  \n",
       "std          0.036774        0.036225  \n",
       "min         -0.155846       -0.065301  \n",
       "25%         -0.083931        0.032160  \n",
       "50%         -0.070851        0.048736  \n",
       "75%         -0.041070        0.068436  \n",
       "max          0.031321        0.143331  "
      ]
     },
     "execution_count": 75,
     "metadata": {},
     "output_type": "execute_result"
    }
   ],
   "source": [
    "sector_tickers_merged_closes.corr()[[\"Sector_Mean\", \"Sector_Mean_s1\", \"Sector_Mean_s2\", \"Sector_Mean_s3\", \"Sector_Mean_s4\", \"Sector_Mean_s5\"]].iloc[:-6].describe()"
   ]
  },
  {
   "cell_type": "markdown",
   "id": "5a08b6dc-3778-4e31-88fe-0a7f29d9cbae",
   "metadata": {
    "tags": []
   },
   "source": [
    "#### Information Technology"
   ]
  },
  {
   "cell_type": "code",
   "execution_count": 76,
   "id": "8c6aac83-a0c8-4535-ba3d-81aa6eb055c6",
   "metadata": {},
   "outputs": [
    {
     "name": "stdout",
     "output_type": "stream",
     "text": [
      "Stocks in Information Technology: 62\n"
     ]
    }
   ],
   "source": [
    "sector = \"Information Technology\"\n",
    "tickets_in_sector = symbols[symbols[\"GICS Sector\"] == sector]\n",
    "print(f\"Stocks in {sector}: {tickets_in_sector.shape[0]}\")"
   ]
  },
  {
   "cell_type": "code",
   "execution_count": 77,
   "id": "1d4c3cae-2052-4609-905c-3c7cdb9c133a",
   "metadata": {},
   "outputs": [],
   "source": [
    "sector_tickers_merged_closes = pd.DataFrame(index=tickers_dfs[tickets_in_sector[\"Symbol\"].iloc[0]].index)"
   ]
  },
  {
   "cell_type": "code",
   "execution_count": 78,
   "id": "748f0afe-047f-4917-9bab-2fb4c31c15b9",
   "metadata": {},
   "outputs": [],
   "source": [
    "for symbol in tickets_in_sector[\"Symbol\"]:\n",
    "    sector_tickers_merged_closes[symbol] = tickers_dfs[symbol][\"Close\"].pct_change()\n",
    "sector_tickers_merged_closes = sector_tickers_merged_closes.iloc[1:]"
   ]
  },
  {
   "cell_type": "code",
   "execution_count": 79,
   "id": "db80bd88-6686-41a5-a7a2-076997158f5e",
   "metadata": {},
   "outputs": [],
   "source": [
    "sector_rel_mean = sector_tickers_merged_closes.mean(axis=1)"
   ]
  },
  {
   "cell_type": "code",
   "execution_count": 80,
   "id": "885bfaf0-9027-4296-8565-4267330e7578",
   "metadata": {},
   "outputs": [],
   "source": [
    "sector_tickers_merged_closes[\"Sector_Mean\"] = sector_rel_mean"
   ]
  },
  {
   "cell_type": "code",
   "execution_count": 81,
   "id": "4422a360-618f-4558-a49b-76b6662f8919",
   "metadata": {},
   "outputs": [],
   "source": [
    "for i in range(1, 6):\n",
    "    sector_tickers_merged_closes[f\"Sector_Mean_s{i}\"] = sector_tickers_merged_closes[\"Sector_Mean\"].shift(i)"
   ]
  },
  {
   "cell_type": "code",
   "execution_count": 82,
   "id": "27930f9e-5733-46ab-9ef5-4ad6db14842e",
   "metadata": {},
   "outputs": [],
   "source": [
    "sector_tickers_merged_closes.dropna(inplace=True)"
   ]
  },
  {
   "cell_type": "code",
   "execution_count": 83,
   "id": "65a656b5-5b25-44a0-849d-5ff30e5253e9",
   "metadata": {},
   "outputs": [
    {
     "data": {
      "text/html": [
       "<div>\n",
       "<style scoped>\n",
       "    .dataframe tbody tr th:only-of-type {\n",
       "        vertical-align: middle;\n",
       "    }\n",
       "\n",
       "    .dataframe tbody tr th {\n",
       "        vertical-align: top;\n",
       "    }\n",
       "\n",
       "    .dataframe thead th {\n",
       "        text-align: right;\n",
       "    }\n",
       "</style>\n",
       "<table border=\"1\" class=\"dataframe\">\n",
       "  <thead>\n",
       "    <tr style=\"text-align: right;\">\n",
       "      <th></th>\n",
       "      <th>Sector_Mean</th>\n",
       "      <th>Sector_Mean_s1</th>\n",
       "      <th>Sector_Mean_s2</th>\n",
       "      <th>Sector_Mean_s3</th>\n",
       "      <th>Sector_Mean_s4</th>\n",
       "      <th>Sector_Mean_s5</th>\n",
       "    </tr>\n",
       "  </thead>\n",
       "  <tbody>\n",
       "    <tr>\n",
       "      <th>count</th>\n",
       "      <td>62.000000</td>\n",
       "      <td>62.000000</td>\n",
       "      <td>62.000000</td>\n",
       "      <td>62.000000</td>\n",
       "      <td>62.000000</td>\n",
       "      <td>62.000000</td>\n",
       "    </tr>\n",
       "    <tr>\n",
       "      <th>mean</th>\n",
       "      <td>0.686596</td>\n",
       "      <td>-0.074337</td>\n",
       "      <td>0.041493</td>\n",
       "      <td>-0.004864</td>\n",
       "      <td>-0.032181</td>\n",
       "      <td>0.020529</td>\n",
       "    </tr>\n",
       "    <tr>\n",
       "      <th>std</th>\n",
       "      <td>0.099606</td>\n",
       "      <td>0.042576</td>\n",
       "      <td>0.023941</td>\n",
       "      <td>0.021371</td>\n",
       "      <td>0.020967</td>\n",
       "      <td>0.020940</td>\n",
       "    </tr>\n",
       "    <tr>\n",
       "      <th>min</th>\n",
       "      <td>0.433075</td>\n",
       "      <td>-0.166940</td>\n",
       "      <td>-0.026985</td>\n",
       "      <td>-0.062718</td>\n",
       "      <td>-0.082405</td>\n",
       "      <td>-0.031436</td>\n",
       "    </tr>\n",
       "    <tr>\n",
       "      <th>25%</th>\n",
       "      <td>0.630617</td>\n",
       "      <td>-0.108108</td>\n",
       "      <td>0.023930</td>\n",
       "      <td>-0.017319</td>\n",
       "      <td>-0.043474</td>\n",
       "      <td>0.009529</td>\n",
       "    </tr>\n",
       "    <tr>\n",
       "      <th>50%</th>\n",
       "      <td>0.689451</td>\n",
       "      <td>-0.074916</td>\n",
       "      <td>0.041696</td>\n",
       "      <td>-0.004925</td>\n",
       "      <td>-0.034894</td>\n",
       "      <td>0.019023</td>\n",
       "    </tr>\n",
       "    <tr>\n",
       "      <th>75%</th>\n",
       "      <td>0.770402</td>\n",
       "      <td>-0.036804</td>\n",
       "      <td>0.057564</td>\n",
       "      <td>0.006766</td>\n",
       "      <td>-0.017188</td>\n",
       "      <td>0.033400</td>\n",
       "    </tr>\n",
       "    <tr>\n",
       "      <th>max</th>\n",
       "      <td>0.833234</td>\n",
       "      <td>0.004849</td>\n",
       "      <td>0.098921</td>\n",
       "      <td>0.042867</td>\n",
       "      <td>0.026246</td>\n",
       "      <td>0.070885</td>\n",
       "    </tr>\n",
       "  </tbody>\n",
       "</table>\n",
       "</div>"
      ],
      "text/plain": [
       "       Sector_Mean  Sector_Mean_s1  Sector_Mean_s2  Sector_Mean_s3  \\\n",
       "count    62.000000       62.000000       62.000000       62.000000   \n",
       "mean      0.686596       -0.074337        0.041493       -0.004864   \n",
       "std       0.099606        0.042576        0.023941        0.021371   \n",
       "min       0.433075       -0.166940       -0.026985       -0.062718   \n",
       "25%       0.630617       -0.108108        0.023930       -0.017319   \n",
       "50%       0.689451       -0.074916        0.041696       -0.004925   \n",
       "75%       0.770402       -0.036804        0.057564        0.006766   \n",
       "max       0.833234        0.004849        0.098921        0.042867   \n",
       "\n",
       "       Sector_Mean_s4  Sector_Mean_s5  \n",
       "count       62.000000       62.000000  \n",
       "mean        -0.032181        0.020529  \n",
       "std          0.020967        0.020940  \n",
       "min         -0.082405       -0.031436  \n",
       "25%         -0.043474        0.009529  \n",
       "50%         -0.034894        0.019023  \n",
       "75%         -0.017188        0.033400  \n",
       "max          0.026246        0.070885  "
      ]
     },
     "execution_count": 83,
     "metadata": {},
     "output_type": "execute_result"
    }
   ],
   "source": [
    "sector_tickers_merged_closes.corr()[[\"Sector_Mean\", \"Sector_Mean_s1\", \"Sector_Mean_s2\", \"Sector_Mean_s3\", \"Sector_Mean_s4\", \"Sector_Mean_s5\"]].iloc[:-6].describe()"
   ]
  },
  {
   "cell_type": "markdown",
   "id": "c0782fda-848d-402c-94e1-cdc797578950",
   "metadata": {
    "tags": []
   },
   "source": [
    "#### Financials"
   ]
  },
  {
   "cell_type": "code",
   "execution_count": 84,
   "id": "949816b8-fd6b-4321-8caa-54f328e608c3",
   "metadata": {},
   "outputs": [
    {
     "name": "stdout",
     "output_type": "stream",
     "text": [
      "Stocks in Financials: 69\n"
     ]
    }
   ],
   "source": [
    "sector = \"Financials\"\n",
    "tickets_in_sector = symbols[symbols[\"GICS Sector\"] == sector]\n",
    "print(f\"Stocks in {sector}: {tickets_in_sector.shape[0]}\")"
   ]
  },
  {
   "cell_type": "code",
   "execution_count": 85,
   "id": "103e363c-2de6-4f36-9f6f-4e977d9243ad",
   "metadata": {},
   "outputs": [],
   "source": [
    "sector_tickers_merged_closes = pd.DataFrame(index=tickers_dfs[tickets_in_sector[\"Symbol\"].iloc[0]].index)"
   ]
  },
  {
   "cell_type": "code",
   "execution_count": 86,
   "id": "020aa057-b488-46a3-9ff4-d0cb7106556e",
   "metadata": {},
   "outputs": [],
   "source": [
    "for symbol in tickets_in_sector[\"Symbol\"]:\n",
    "    sector_tickers_merged_closes[symbol] = tickers_dfs[symbol][\"Close\"].pct_change()\n",
    "sector_tickers_merged_closes = sector_tickers_merged_closes.iloc[1:]"
   ]
  },
  {
   "cell_type": "code",
   "execution_count": 87,
   "id": "4a033f30-a67e-429f-96dc-b88a875ceafb",
   "metadata": {},
   "outputs": [],
   "source": [
    "sector_rel_mean = sector_tickers_merged_closes.mean(axis=1)"
   ]
  },
  {
   "cell_type": "code",
   "execution_count": 88,
   "id": "b89b174e-d0bc-46f3-973b-f43c6c28d31f",
   "metadata": {},
   "outputs": [],
   "source": [
    "sector_tickers_merged_closes[\"Sector_Mean\"] = sector_rel_mean"
   ]
  },
  {
   "cell_type": "code",
   "execution_count": 89,
   "id": "58bd6c44-bd1a-47b8-a563-144da23249c1",
   "metadata": {},
   "outputs": [],
   "source": [
    "for i in range(1, 6):\n",
    "    sector_tickers_merged_closes[f\"Sector_Mean_s{i}\"] = sector_tickers_merged_closes[\"Sector_Mean\"].shift(i)"
   ]
  },
  {
   "cell_type": "code",
   "execution_count": 90,
   "id": "daa4b31c-e89b-4aa7-b950-303b4c76acf5",
   "metadata": {},
   "outputs": [],
   "source": [
    "sector_tickers_merged_closes.dropna(inplace=True)"
   ]
  },
  {
   "cell_type": "code",
   "execution_count": 91,
   "id": "00c64f6e-243d-46db-8714-25ba15bbe208",
   "metadata": {},
   "outputs": [
    {
     "data": {
      "text/html": [
       "<div>\n",
       "<style scoped>\n",
       "    .dataframe tbody tr th:only-of-type {\n",
       "        vertical-align: middle;\n",
       "    }\n",
       "\n",
       "    .dataframe tbody tr th {\n",
       "        vertical-align: top;\n",
       "    }\n",
       "\n",
       "    .dataframe thead th {\n",
       "        text-align: right;\n",
       "    }\n",
       "</style>\n",
       "<table border=\"1\" class=\"dataframe\">\n",
       "  <thead>\n",
       "    <tr style=\"text-align: right;\">\n",
       "      <th></th>\n",
       "      <th>Sector_Mean</th>\n",
       "      <th>Sector_Mean_s1</th>\n",
       "      <th>Sector_Mean_s2</th>\n",
       "      <th>Sector_Mean_s3</th>\n",
       "      <th>Sector_Mean_s4</th>\n",
       "      <th>Sector_Mean_s5</th>\n",
       "    </tr>\n",
       "  </thead>\n",
       "  <tbody>\n",
       "    <tr>\n",
       "      <th>count</th>\n",
       "      <td>69.000000</td>\n",
       "      <td>69.000000</td>\n",
       "      <td>69.000000</td>\n",
       "      <td>69.000000</td>\n",
       "      <td>69.000000</td>\n",
       "      <td>69.000000</td>\n",
       "    </tr>\n",
       "    <tr>\n",
       "      <th>mean</th>\n",
       "      <td>0.754056</td>\n",
       "      <td>-0.096025</td>\n",
       "      <td>0.073546</td>\n",
       "      <td>-0.017472</td>\n",
       "      <td>-0.065370</td>\n",
       "      <td>0.037280</td>\n",
       "    </tr>\n",
       "    <tr>\n",
       "      <th>std</th>\n",
       "      <td>0.112597</td>\n",
       "      <td>0.031812</td>\n",
       "      <td>0.033121</td>\n",
       "      <td>0.028327</td>\n",
       "      <td>0.028129</td>\n",
       "      <td>0.026249</td>\n",
       "    </tr>\n",
       "    <tr>\n",
       "      <th>min</th>\n",
       "      <td>0.381932</td>\n",
       "      <td>-0.164154</td>\n",
       "      <td>0.005759</td>\n",
       "      <td>-0.081821</td>\n",
       "      <td>-0.112578</td>\n",
       "      <td>-0.018155</td>\n",
       "    </tr>\n",
       "    <tr>\n",
       "      <th>25%</th>\n",
       "      <td>0.693324</td>\n",
       "      <td>-0.120046</td>\n",
       "      <td>0.053306</td>\n",
       "      <td>-0.039046</td>\n",
       "      <td>-0.085504</td>\n",
       "      <td>0.021501</td>\n",
       "    </tr>\n",
       "    <tr>\n",
       "      <th>50%</th>\n",
       "      <td>0.767598</td>\n",
       "      <td>-0.097242</td>\n",
       "      <td>0.068871</td>\n",
       "      <td>-0.013246</td>\n",
       "      <td>-0.069875</td>\n",
       "      <td>0.034286</td>\n",
       "    </tr>\n",
       "    <tr>\n",
       "      <th>75%</th>\n",
       "      <td>0.844876</td>\n",
       "      <td>-0.075519</td>\n",
       "      <td>0.093787</td>\n",
       "      <td>0.001336</td>\n",
       "      <td>-0.050057</td>\n",
       "      <td>0.048790</td>\n",
       "    </tr>\n",
       "    <tr>\n",
       "      <th>max</th>\n",
       "      <td>0.896719</td>\n",
       "      <td>-0.025838</td>\n",
       "      <td>0.172169</td>\n",
       "      <td>0.048022</td>\n",
       "      <td>0.028372</td>\n",
       "      <td>0.106575</td>\n",
       "    </tr>\n",
       "  </tbody>\n",
       "</table>\n",
       "</div>"
      ],
      "text/plain": [
       "       Sector_Mean  Sector_Mean_s1  Sector_Mean_s2  Sector_Mean_s3  \\\n",
       "count    69.000000       69.000000       69.000000       69.000000   \n",
       "mean      0.754056       -0.096025        0.073546       -0.017472   \n",
       "std       0.112597        0.031812        0.033121        0.028327   \n",
       "min       0.381932       -0.164154        0.005759       -0.081821   \n",
       "25%       0.693324       -0.120046        0.053306       -0.039046   \n",
       "50%       0.767598       -0.097242        0.068871       -0.013246   \n",
       "75%       0.844876       -0.075519        0.093787        0.001336   \n",
       "max       0.896719       -0.025838        0.172169        0.048022   \n",
       "\n",
       "       Sector_Mean_s4  Sector_Mean_s5  \n",
       "count       69.000000       69.000000  \n",
       "mean        -0.065370        0.037280  \n",
       "std          0.028129        0.026249  \n",
       "min         -0.112578       -0.018155  \n",
       "25%         -0.085504        0.021501  \n",
       "50%         -0.069875        0.034286  \n",
       "75%         -0.050057        0.048790  \n",
       "max          0.028372        0.106575  "
      ]
     },
     "execution_count": 91,
     "metadata": {},
     "output_type": "execute_result"
    }
   ],
   "source": [
    "sector_tickers_merged_closes.corr()[[\"Sector_Mean\", \"Sector_Mean_s1\", \"Sector_Mean_s2\", \"Sector_Mean_s3\", \"Sector_Mean_s4\", \"Sector_Mean_s5\"]].iloc[:-6].describe()"
   ]
  },
  {
   "cell_type": "markdown",
   "id": "f65e2821-a42a-4da3-b692-40ac35372e44",
   "metadata": {
    "tags": []
   },
   "source": [
    "#### Financials"
   ]
  },
  {
   "cell_type": "code",
   "execution_count": 92,
   "id": "873647a7-7feb-4d39-8b1f-8906e0125e91",
   "metadata": {},
   "outputs": [
    {
     "name": "stdout",
     "output_type": "stream",
     "text": [
      "Stocks in Energy: 20\n"
     ]
    }
   ],
   "source": [
    "sector = \"Energy\"\n",
    "tickets_in_sector = symbols[symbols[\"GICS Sector\"] == sector]\n",
    "print(f\"Stocks in {sector}: {tickets_in_sector.shape[0]}\")"
   ]
  },
  {
   "cell_type": "code",
   "execution_count": 93,
   "id": "5e20411b-e070-492f-9866-57b02aaaf7cc",
   "metadata": {},
   "outputs": [],
   "source": [
    "sector_tickers_merged_closes = pd.DataFrame(index=tickers_dfs[tickets_in_sector[\"Symbol\"].iloc[0]].index)"
   ]
  },
  {
   "cell_type": "code",
   "execution_count": 94,
   "id": "cdf7690e-49ec-4ba8-9bbd-bc1e3354af2d",
   "metadata": {},
   "outputs": [],
   "source": [
    "for symbol in tickets_in_sector[\"Symbol\"]:\n",
    "    sector_tickers_merged_closes[symbol] = tickers_dfs[symbol][\"Close\"].pct_change()\n",
    "sector_tickers_merged_closes = sector_tickers_merged_closes.iloc[1:]"
   ]
  },
  {
   "cell_type": "code",
   "execution_count": 95,
   "id": "45f51c76-9b3a-4569-b677-49cabf713439",
   "metadata": {},
   "outputs": [],
   "source": [
    "sector_rel_mean = sector_tickers_merged_closes.mean(axis=1)"
   ]
  },
  {
   "cell_type": "code",
   "execution_count": 96,
   "id": "b4acbfe8-fc92-4f2a-9561-d97aceab886d",
   "metadata": {},
   "outputs": [],
   "source": [
    "sector_tickers_merged_closes[\"Sector_Mean\"] = sector_rel_mean"
   ]
  },
  {
   "cell_type": "code",
   "execution_count": 97,
   "id": "1416daf4-031f-4b06-b637-a7217da2ab38",
   "metadata": {},
   "outputs": [],
   "source": [
    "for i in range(1, 6):\n",
    "    sector_tickers_merged_closes[f\"Sector_Mean_s{i}\"] = sector_tickers_merged_closes[\"Sector_Mean\"].shift(i)"
   ]
  },
  {
   "cell_type": "code",
   "execution_count": 98,
   "id": "c872468a-3a86-498e-b02a-694aa414dac8",
   "metadata": {},
   "outputs": [],
   "source": [
    "sector_tickers_merged_closes.dropna(inplace=True)"
   ]
  },
  {
   "cell_type": "code",
   "execution_count": 99,
   "id": "28635a57-6eaa-4b8c-8a59-8969d87576dc",
   "metadata": {},
   "outputs": [
    {
     "data": {
      "text/html": [
       "<div>\n",
       "<style scoped>\n",
       "    .dataframe tbody tr th:only-of-type {\n",
       "        vertical-align: middle;\n",
       "    }\n",
       "\n",
       "    .dataframe tbody tr th {\n",
       "        vertical-align: top;\n",
       "    }\n",
       "\n",
       "    .dataframe thead th {\n",
       "        text-align: right;\n",
       "    }\n",
       "</style>\n",
       "<table border=\"1\" class=\"dataframe\">\n",
       "  <thead>\n",
       "    <tr style=\"text-align: right;\">\n",
       "      <th></th>\n",
       "      <th>Sector_Mean</th>\n",
       "      <th>Sector_Mean_s1</th>\n",
       "      <th>Sector_Mean_s2</th>\n",
       "      <th>Sector_Mean_s3</th>\n",
       "      <th>Sector_Mean_s4</th>\n",
       "      <th>Sector_Mean_s5</th>\n",
       "    </tr>\n",
       "  </thead>\n",
       "  <tbody>\n",
       "    <tr>\n",
       "      <th>count</th>\n",
       "      <td>20.000000</td>\n",
       "      <td>20.000000</td>\n",
       "      <td>20.000000</td>\n",
       "      <td>20.000000</td>\n",
       "      <td>20.000000</td>\n",
       "      <td>20.000000</td>\n",
       "    </tr>\n",
       "    <tr>\n",
       "      <th>mean</th>\n",
       "      <td>0.806830</td>\n",
       "      <td>-0.011014</td>\n",
       "      <td>0.022173</td>\n",
       "      <td>0.004100</td>\n",
       "      <td>-0.005920</td>\n",
       "      <td>0.022383</td>\n",
       "    </tr>\n",
       "    <tr>\n",
       "      <th>std</th>\n",
       "      <td>0.095389</td>\n",
       "      <td>0.030695</td>\n",
       "      <td>0.018860</td>\n",
       "      <td>0.021538</td>\n",
       "      <td>0.026560</td>\n",
       "      <td>0.021175</td>\n",
       "    </tr>\n",
       "    <tr>\n",
       "      <th>min</th>\n",
       "      <td>0.516017</td>\n",
       "      <td>-0.071543</td>\n",
       "      <td>-0.021639</td>\n",
       "      <td>-0.046082</td>\n",
       "      <td>-0.083030</td>\n",
       "      <td>-0.015960</td>\n",
       "    </tr>\n",
       "    <tr>\n",
       "      <th>25%</th>\n",
       "      <td>0.778422</td>\n",
       "      <td>-0.028358</td>\n",
       "      <td>0.010457</td>\n",
       "      <td>-0.005248</td>\n",
       "      <td>-0.016411</td>\n",
       "      <td>0.006528</td>\n",
       "    </tr>\n",
       "    <tr>\n",
       "      <th>50%</th>\n",
       "      <td>0.839506</td>\n",
       "      <td>-0.024058</td>\n",
       "      <td>0.025837</td>\n",
       "      <td>0.003452</td>\n",
       "      <td>-0.001489</td>\n",
       "      <td>0.024034</td>\n",
       "    </tr>\n",
       "    <tr>\n",
       "      <th>75%</th>\n",
       "      <td>0.872360</td>\n",
       "      <td>0.011137</td>\n",
       "      <td>0.035988</td>\n",
       "      <td>0.009042</td>\n",
       "      <td>0.003943</td>\n",
       "      <td>0.038156</td>\n",
       "    </tr>\n",
       "    <tr>\n",
       "      <th>max</th>\n",
       "      <td>0.894221</td>\n",
       "      <td>0.058106</td>\n",
       "      <td>0.057032</td>\n",
       "      <td>0.048882</td>\n",
       "      <td>0.034092</td>\n",
       "      <td>0.054716</td>\n",
       "    </tr>\n",
       "  </tbody>\n",
       "</table>\n",
       "</div>"
      ],
      "text/plain": [
       "       Sector_Mean  Sector_Mean_s1  Sector_Mean_s2  Sector_Mean_s3  \\\n",
       "count    20.000000       20.000000       20.000000       20.000000   \n",
       "mean      0.806830       -0.011014        0.022173        0.004100   \n",
       "std       0.095389        0.030695        0.018860        0.021538   \n",
       "min       0.516017       -0.071543       -0.021639       -0.046082   \n",
       "25%       0.778422       -0.028358        0.010457       -0.005248   \n",
       "50%       0.839506       -0.024058        0.025837        0.003452   \n",
       "75%       0.872360        0.011137        0.035988        0.009042   \n",
       "max       0.894221        0.058106        0.057032        0.048882   \n",
       "\n",
       "       Sector_Mean_s4  Sector_Mean_s5  \n",
       "count       20.000000       20.000000  \n",
       "mean        -0.005920        0.022383  \n",
       "std          0.026560        0.021175  \n",
       "min         -0.083030       -0.015960  \n",
       "25%         -0.016411        0.006528  \n",
       "50%         -0.001489        0.024034  \n",
       "75%          0.003943        0.038156  \n",
       "max          0.034092        0.054716  "
      ]
     },
     "execution_count": 99,
     "metadata": {},
     "output_type": "execute_result"
    }
   ],
   "source": [
    "sector_tickers_merged_closes.corr()[[\"Sector_Mean\", \"Sector_Mean_s1\", \"Sector_Mean_s2\", \"Sector_Mean_s3\", \"Sector_Mean_s4\", \"Sector_Mean_s5\"]].iloc[:-6].describe()"
   ]
  },
  {
   "cell_type": "code",
   "execution_count": null,
   "id": "3a963eec-ea47-436f-b2f3-913767f620d3",
   "metadata": {},
   "outputs": [],
   "source": []
  },
  {
   "cell_type": "code",
   "execution_count": null,
   "id": "634c4650-fedf-4fb5-9f99-afc274f5e0bb",
   "metadata": {},
   "outputs": [],
   "source": []
  }
 ],
 "metadata": {
  "kernelspec": {
   "display_name": "Python 3 (ipykernel)",
   "language": "python",
   "name": "python3"
  },
  "language_info": {
   "codemirror_mode": {
    "name": "ipython",
    "version": 3
   },
   "file_extension": ".py",
   "mimetype": "text/x-python",
   "name": "python",
   "nbconvert_exporter": "python",
   "pygments_lexer": "ipython3",
   "version": "3.9.12"
  }
 },
 "nbformat": 4,
 "nbformat_minor": 5
}
