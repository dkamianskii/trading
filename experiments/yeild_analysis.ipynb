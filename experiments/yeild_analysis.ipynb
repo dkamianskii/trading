{
 "cells": [
  {
   "cell_type": "code",
   "execution_count": 26,
   "id": "a39db6eb-74bb-44a5-a30c-1ac396921062",
   "metadata": {},
   "outputs": [],
   "source": [
    "import pandas as pd\n",
    "import numpy as np\n",
    "import os\n",
    "from os import path"
   ]
  },
  {
   "cell_type": "code",
   "execution_count": 27,
   "id": "b01a102c-51cc-4c79-a744-f0746e5a63c9",
   "metadata": {},
   "outputs": [],
   "source": [
    "symbols = pd.read_csv(\"D:\\Trading\\sp500_symbols_list.csv\")"
   ]
  },
  {
   "cell_type": "code",
   "execution_count": 28,
   "id": "d89c20b8-eec7-425d-95aa-66425e461c34",
   "metadata": {},
   "outputs": [],
   "source": [
    "tickers_path = \"D:\\\\Trading\\\\raw_data\\\\tickers\""
   ]
  },
  {
   "cell_type": "code",
   "execution_count": 29,
   "id": "75f30179-e6d6-4caa-9739-3a7737a2be08",
   "metadata": {},
   "outputs": [],
   "source": [
    "tickers_dfs = [pd.read_csv(path.join(tickers_path, f\"{ticker}.csv\"), parse_dates=True, index_col=\"Date\") for ticker in symbols['Symbol']]"
   ]
  },
  {
   "cell_type": "markdown",
   "id": "cecfedb2-6ed8-43e0-a677-13e31cde62fd",
   "metadata": {},
   "source": [
    "### Годовая доходность"
   ]
  },
  {
   "cell_type": "markdown",
   "id": "4e373987-76ed-4b27-8771-c2dcb62c6a1c",
   "metadata": {},
   "source": [
    "Рассчёт годовой доходности по каждой акции"
   ]
  },
  {
   "cell_type": "code",
   "execution_count": 30,
   "id": "0fded5ae-9c4b-4159-b1ed-5dbd0b0ad794",
   "metadata": {},
   "outputs": [],
   "source": [
    "year_yields = []\n",
    "for df in tickers_dfs:\n",
    "    start_date = df.index[0]\n",
    "    ticket_year_yields = []\n",
    "    for date in df.index:\n",
    "        if (date - start_date).days >= 365:\n",
    "            year_yield = (df.loc[date, \"Close\"] - df.loc[start_date, \"Close\"]) / df.loc[start_date, \"Close\"]\n",
    "            ticket_year_yields.append(year_yield)\n",
    "            start_date = date\n",
    "    if (date - start_date).days >= 100:\n",
    "        year_yield = (df.loc[date, \"Close\"] - df.loc[start_date, \"Close\"]) / df.loc[start_date, \"Close\"]\n",
    "        ticket_year_yields.append(year_yield)\n",
    "    year_yields.append(np.array(ticket_year_yields))"
   ]
  },
  {
   "cell_type": "markdown",
   "id": "ef52f917-2943-4a74-97fc-8f450541c909",
   "metadata": {},
   "source": [
    "Среднее количество лет"
   ]
  },
  {
   "cell_type": "code",
   "execution_count": 31,
   "id": "ffc1bbcd-93ba-46b8-b49b-4c375b70f5c8",
   "metadata": {},
   "outputs": [
    {
     "data": {
      "text/plain": [
       "22.0"
      ]
     },
     "execution_count": 31,
     "metadata": {},
     "output_type": "execute_result"
    }
   ],
   "source": [
    "np.round(np.mean([len(ticket_year_yields) for ticket_year_yields in year_yields]))"
   ]
  },
  {
   "cell_type": "code",
   "execution_count": 32,
   "id": "1a766ce2-2979-4725-8995-fa1380bc2de0",
   "metadata": {},
   "outputs": [],
   "source": [
    "mean_year_yields = np.array([ticket_year_yields.mean() for ticket_year_yields in year_yields])\n",
    "median_year_yields = np.array([np.median(ticket_year_yields) for ticket_year_yields in year_yields])"
   ]
  },
  {
   "cell_type": "markdown",
   "id": "19a8182d-2857-4b2d-9662-ef4864cb0ab0",
   "metadata": {},
   "source": [
    "Анализ средней годовой доходности"
   ]
  },
  {
   "cell_type": "code",
   "execution_count": 33,
   "id": "c83c48bf-d902-4b33-8967-c1fedd5c7d6d",
   "metadata": {},
   "outputs": [
    {
     "name": "stdout",
     "output_type": "stream",
     "text": [
      "Mean: 0.18811387520715253\n",
      "Std: 0.11415646778608451\n",
      "Median: 0.16065825235505893\n",
      "75% percintile: 0.21637947559695725\n",
      "25% percintile: 0.11579429825277421\n",
      "Max: 0.8938176352226297\n",
      "Min: 0.011549044049205046\n"
     ]
    }
   ],
   "source": [
    "print(f\"Mean: {mean_year_yields.mean()}\")\n",
    "print(f\"Std: {mean_year_yields.std()}\")\n",
    "print(f\"Median: {np.quantile(mean_year_yields, 0.5)}\")\n",
    "print(f\"75% percintile: {np.quantile(mean_year_yields, 0.75)}\")\n",
    "print(f\"25% percintile: {np.quantile(mean_year_yields, 0.25)}\")\n",
    "print(f\"Max: {np.max(mean_year_yields)}\")\n",
    "print(f\"Min: {np.min(mean_year_yields)}\")"
   ]
  },
  {
   "cell_type": "code",
   "execution_count": 34,
   "id": "fcb51740-390c-4d7e-a17c-5b1c9d67e2f8",
   "metadata": {},
   "outputs": [],
   "source": [
    "max_year_yield_idx = np.argmax(mean_year_yields)\n",
    "min_year_yield_idx = np.argmin(mean_year_yields)"
   ]
  },
  {
   "cell_type": "code",
   "execution_count": 35,
   "id": "9a87e9e6-31ea-4c1e-99f7-1057ce009f41",
   "metadata": {},
   "outputs": [
    {
     "data": {
      "text/plain": [
       "'Axon Enterprise'"
      ]
     },
     "execution_count": 35,
     "metadata": {},
     "output_type": "execute_result"
    }
   ],
   "source": [
    "symbols.loc[max_year_yield_idx]['Security']"
   ]
  },
  {
   "cell_type": "code",
   "execution_count": 36,
   "id": "d7e54141-f8ca-4f6e-a33f-03e2a1b94cdd",
   "metadata": {},
   "outputs": [
    {
     "data": {
      "text/plain": [
       "'Citigroup'"
      ]
     },
     "execution_count": 36,
     "metadata": {},
     "output_type": "execute_result"
    }
   ],
   "source": [
    "symbols.loc[min_year_yield_idx]['Security']"
   ]
  },
  {
   "cell_type": "markdown",
   "id": "117c33c5-c48b-4b55-86da-a1760b04cab8",
   "metadata": {},
   "source": [
    "Усреднённая годовая доходность в секторе"
   ]
  },
  {
   "cell_type": "code",
   "execution_count": 37,
   "id": "5906c3db-b340-42fa-a8b6-56067699e585",
   "metadata": {},
   "outputs": [
    {
     "name": "stdout",
     "output_type": "stream",
     "text": [
      "Industrials (71 entities)\n",
      "Mean: 0.18171585247663338, Median: 0.16145544263779832, Min: 0.03738221681916471, Max: 0.8938176352226297\n",
      "Information Technology (62 entities)\n",
      "Mean: 0.24001371501613147, Median: 0.19965377859966787, Min: 0.05607493007181308, Max: 0.7881354104654749\n",
      "Financials (69 entities)\n",
      "Mean: 0.14797603068023862, Median: 0.13472254107772916, Min: 0.011549044049205046, Max: 0.3681753944636475\n",
      "Energy (20 entities)\n",
      "Mean: 0.18841291611051325, Median: 0.16006624980903078, Min: 0.05033005813294072, Max: 0.43778677496829266\n"
     ]
    }
   ],
   "source": [
    "sectors_yeilds = {sector: [] for sector in symbols[\"GICS Sector\"].unique()}\n",
    "\n",
    "for i in range(symbols.shape[0]):\n",
    "    sectors_yeilds[symbols.iloc[i][\"GICS Sector\"]].append(mean_year_yields[i])\n",
    "\n",
    "for k, v in sectors_yeilds.items():\n",
    "    print(f\"{k} ({len(v)} entities)\")\n",
    "    print(f\"Mean: {np.mean(v)}, Median: {np.median(v)}, Min: {np.min(v)}, Max: {np.max(v)}\")"
   ]
  },
  {
   "cell_type": "markdown",
   "id": "ad85677a-264d-40f0-9500-fb97f4e19d54",
   "metadata": {},
   "source": [
    "Анализ медианной доходности"
   ]
  },
  {
   "cell_type": "code",
   "execution_count": 38,
   "id": "944e59bb-99b3-4d2f-8610-70f72030647d",
   "metadata": {},
   "outputs": [
    {
     "name": "stdout",
     "output_type": "stream",
     "text": [
      "Mean: 0.16039914033502836\n",
      "Std: 0.09301345266406183\n",
      "Median: 0.14552248249741995\n",
      "75% percintile: 0.2032739655257672\n",
      "25% percintile: 0.09797780855726981\n",
      "Max: 0.49121138191304026\n",
      "Min: -0.007582868966264408\n"
     ]
    }
   ],
   "source": [
    "print(f\"Mean: {median_year_yields.mean()}\")\n",
    "print(f\"Std: {median_year_yields.std()}\")\n",
    "print(f\"Median: {np.quantile(median_year_yields, 0.5)}\")\n",
    "print(f\"75% percintile: {np.quantile(median_year_yields, 0.75)}\")\n",
    "print(f\"25% percintile: {np.quantile(median_year_yields, 0.25)}\")\n",
    "print(f\"Max: {np.max(median_year_yields)}\")\n",
    "print(f\"Min: {np.min(median_year_yields)}\")"
   ]
  },
  {
   "cell_type": "code",
   "execution_count": 39,
   "id": "1aac490a-0898-4413-863b-59e800b73c97",
   "metadata": {},
   "outputs": [],
   "source": [
    "max_year_yield_idx = np.argmax(median_year_yields)\n",
    "min_year_yield_idx = np.argmin(median_year_yields)"
   ]
  },
  {
   "cell_type": "code",
   "execution_count": 40,
   "id": "61f11b65-6e92-4fc6-ba31-18dedc8fb296",
   "metadata": {},
   "outputs": [
    {
     "data": {
      "text/plain": [
       "'Nvidia'"
      ]
     },
     "execution_count": 40,
     "metadata": {},
     "output_type": "execute_result"
    }
   ],
   "source": [
    "symbols.loc[max_year_yield_idx]['Security']"
   ]
  },
  {
   "cell_type": "code",
   "execution_count": 41,
   "id": "6bd75890-17f0-471e-a704-c21200f8b9fa",
   "metadata": {},
   "outputs": [
    {
     "data": {
      "text/plain": [
       "'Juniper Networks'"
      ]
     },
     "execution_count": 41,
     "metadata": {},
     "output_type": "execute_result"
    }
   ],
   "source": [
    "symbols.loc[min_year_yield_idx]['Security']"
   ]
  },
  {
   "cell_type": "code",
   "execution_count": 42,
   "id": "57a9c419-639f-4a7a-8456-ba55b18a1a6c",
   "metadata": {},
   "outputs": [
    {
     "name": "stdout",
     "output_type": "stream",
     "text": [
      "Industrials (71 entities)\n",
      "Mean: 0.16861782008506873, Median: 0.15559397703949474, Min: 0.015531556528225465, Max: 0.4604930460141234\n",
      "Information Technology (62 entities)\n",
      "Mean: 0.18329545158363897, Median: 0.17363993946878648, Min: -0.007582868966264408, Max: 0.49121138191304026\n",
      "Financials (69 entities)\n",
      "Mean: 0.13507536033747625, Median: 0.12443784172523327, Min: 0.005626739937437513, Max: 0.3850337951797449\n",
      "Energy (20 entities)\n",
      "Mean: 0.14761130334324718, Median: 0.13242111457250128, Min: -0.0026918891357922414, Max: 0.3288758136423262\n"
     ]
    }
   ],
   "source": [
    "sectors_yeilds = {sector: [] for sector in symbols[\"GICS Sector\"].unique()}\n",
    "\n",
    "for i in range(symbols.shape[0]):\n",
    "    sectors_yeilds[symbols.iloc[i][\"GICS Sector\"]].append(median_year_yields[i])\n",
    "\n",
    "for k, v in sectors_yeilds.items():\n",
    "    print(f\"{k} ({len(v)} entities)\")\n",
    "    print(f\"Mean: {np.mean(v)}, Median: {np.median(v)}, Min: {np.min(v)}, Max: {np.max(v)}\")"
   ]
  },
  {
   "cell_type": "code",
   "execution_count": null,
   "id": "a8594291-b81e-4409-94c2-6e1b8fdf9728",
   "metadata": {},
   "outputs": [],
   "source": []
  }
 ],
 "metadata": {
  "kernelspec": {
   "display_name": "Python 3 (ipykernel)",
   "language": "python",
   "name": "python3"
  },
  "language_info": {
   "codemirror_mode": {
    "name": "ipython",
    "version": 3
   },
   "file_extension": ".py",
   "mimetype": "text/x-python",
   "name": "python",
   "nbconvert_exporter": "python",
   "pygments_lexer": "ipython3",
   "version": "3.9.12"
  }
 },
 "nbformat": 4,
 "nbformat_minor": 5
}
